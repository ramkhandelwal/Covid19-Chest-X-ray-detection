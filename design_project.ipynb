{
 "cells": [
  {
   "cell_type": "code",
   "execution_count": 15,
   "id": "3bc9aedb",
   "metadata": {},
   "outputs": [
    {
     "name": "stdout",
     "output_type": "stream",
     "text": [
      "Collecting tensorflow-addons==0.16.1\n",
      "  Downloading tensorflow_addons-0.16.1-cp38-cp38-win_amd64.whl (755 kB)\n",
      "Collecting typeguard>=2.7\n",
      "  Downloading typeguard-2.13.3-py3-none-any.whl (17 kB)\n",
      "Installing collected packages: typeguard, tensorflow-addons\n",
      "Successfully installed tensorflow-addons-0.16.1 typeguard-2.13.3\n",
      "Imports complete\n"
     ]
    }
   ],
   "source": [
    "import numpy as np\n",
    "import pandas as pd\n",
    "import matplotlib.pyplot as plt\n",
    "from matplotlib.pyplot import imread\n",
    "import cv2\n",
    "import h5py\n",
    "\n",
    "import tensorflow as tf\n",
    "!pip install tensorflow-addons==0.16.1\n",
    "import tensorflow_addons as tfa\n",
    "import tensorflow.keras.layers as layer\n",
    "\n",
    "import os\n",
    "\n",
    "print(\"Imports complete\")"
   ]
  },
  {
   "cell_type": "code",
   "execution_count": 5,
   "id": "091ed1d9",
   "metadata": {},
   "outputs": [
    {
     "name": "stdout",
     "output_type": "stream",
     "text": [
      "Collecting tensorflow\n",
      "  Downloading tensorflow-2.8.0-cp38-cp38-win_amd64.whl (438.0 MB)\n",
      "Collecting tensorflow-io-gcs-filesystem>=0.23.1\n",
      "  Downloading tensorflow_io_gcs_filesystem-0.24.0-cp38-cp38-win_amd64.whl (1.5 MB)\n",
      "Requirement already satisfied: wrapt>=1.11.0 in c:\\users\\ram khandelwal\\anaconda3\\lib\\site-packages (from tensorflow) (1.12.1)\n",
      "Collecting tf-estimator-nightly==2.8.0.dev2021122109\n",
      "  Downloading tf_estimator_nightly-2.8.0.dev2021122109-py2.py3-none-any.whl (462 kB)\n",
      "Collecting google-pasta>=0.1.1\n",
      "  Downloading google_pasta-0.2.0-py3-none-any.whl (57 kB)\n",
      "Collecting termcolor>=1.1.0\n",
      "  Downloading termcolor-1.1.0.tar.gz (3.9 kB)\n",
      "Collecting flatbuffers>=1.12\n",
      "  Downloading flatbuffers-2.0-py2.py3-none-any.whl (26 kB)\n",
      "Collecting keras-preprocessing>=1.1.1\n",
      "  Downloading Keras_Preprocessing-1.1.2-py2.py3-none-any.whl (42 kB)\n",
      "Requirement already satisfied: typing-extensions>=3.6.6 in c:\\users\\ram khandelwal\\anaconda3\\lib\\site-packages (from tensorflow) (3.7.4.3)\n",
      "Collecting gast>=0.2.1\n",
      "  Downloading gast-0.5.3-py3-none-any.whl (19 kB)\n",
      "Collecting astunparse>=1.6.0\n",
      "  Downloading astunparse-1.6.3-py2.py3-none-any.whl (12 kB)\n",
      "Requirement already satisfied: setuptools in c:\\users\\ram khandelwal\\anaconda3\\lib\\site-packages (from tensorflow) (52.0.0.post20210125)\n",
      "Collecting libclang>=9.0.1\n",
      "  Downloading libclang-13.0.0-py2.py3-none-win_amd64.whl (13.9 MB)\n",
      "Collecting opt-einsum>=2.3.2\n",
      "  Downloading opt_einsum-3.3.0-py3-none-any.whl (65 kB)\n",
      "Requirement already satisfied: h5py>=2.9.0 in c:\\users\\ram khandelwal\\anaconda3\\lib\\site-packages (from tensorflow) (2.10.0)\n",
      "Collecting keras<2.9,>=2.8.0rc0\n",
      "  Downloading keras-2.8.0-py2.py3-none-any.whl (1.4 MB)\n",
      "Collecting tensorboard<2.9,>=2.8\n",
      "  Downloading tensorboard-2.8.0-py3-none-any.whl (5.8 MB)\n",
      "Collecting absl-py>=0.4.0\n",
      "  Downloading absl_py-1.0.0-py3-none-any.whl (126 kB)\n",
      "Collecting protobuf>=3.9.2\n",
      "  Downloading protobuf-3.20.0-cp38-cp38-win_amd64.whl (904 kB)\n",
      "Requirement already satisfied: six>=1.12.0 in c:\\users\\ram khandelwal\\anaconda3\\lib\\site-packages (from tensorflow) (1.15.0)\n",
      "Collecting grpcio<2.0,>=1.24.3\n",
      "  Downloading grpcio-1.44.0-cp38-cp38-win_amd64.whl (3.4 MB)\n",
      "Requirement already satisfied: numpy>=1.20 in c:\\users\\ram khandelwal\\anaconda3\\lib\\site-packages (from tensorflow) (1.20.1)\n",
      "Requirement already satisfied: wheel<1.0,>=0.23.0 in c:\\users\\ram khandelwal\\anaconda3\\lib\\site-packages (from astunparse>=1.6.0->tensorflow) (0.36.2)\n",
      "Collecting tensorboard-data-server<0.7.0,>=0.6.0\n",
      "  Downloading tensorboard_data_server-0.6.1-py3-none-any.whl (2.4 kB)\n",
      "Collecting google-auth<3,>=1.6.3\n",
      "  Downloading google_auth-2.6.3-py2.py3-none-any.whl (156 kB)\n",
      "Requirement already satisfied: werkzeug>=0.11.15 in c:\\users\\ram khandelwal\\anaconda3\\lib\\site-packages (from tensorboard<2.9,>=2.8->tensorflow) (1.0.1)\n",
      "Requirement already satisfied: requests<3,>=2.21.0 in c:\\users\\ram khandelwal\\anaconda3\\lib\\site-packages (from tensorboard<2.9,>=2.8->tensorflow) (2.25.1)\n",
      "Collecting tensorboard-plugin-wit>=1.6.0\n",
      "  Downloading tensorboard_plugin_wit-1.8.1-py3-none-any.whl (781 kB)\n",
      "Collecting markdown>=2.6.8\n",
      "  Downloading Markdown-3.3.6-py3-none-any.whl (97 kB)\n",
      "Collecting google-auth-oauthlib<0.5,>=0.4.1\n",
      "  Downloading google_auth_oauthlib-0.4.6-py2.py3-none-any.whl (18 kB)\n",
      "Collecting pyasn1-modules>=0.2.1\n",
      "  Downloading pyasn1_modules-0.2.8-py2.py3-none-any.whl (155 kB)\n",
      "Collecting cachetools<6.0,>=2.0.0\n",
      "  Downloading cachetools-5.0.0-py3-none-any.whl (9.1 kB)\n",
      "Collecting rsa<5,>=3.1.4\n",
      "  Downloading rsa-4.8-py3-none-any.whl (39 kB)\n",
      "Collecting requests-oauthlib>=0.7.0\n",
      "  Downloading requests_oauthlib-1.3.1-py2.py3-none-any.whl (23 kB)\n",
      "Collecting importlib-metadata>=4.4\n",
      "  Downloading importlib_metadata-4.11.3-py3-none-any.whl (18 kB)\n",
      "Requirement already satisfied: zipp>=0.5 in c:\\users\\ram khandelwal\\anaconda3\\lib\\site-packages (from importlib-metadata>=4.4->markdown>=2.6.8->tensorboard<2.9,>=2.8->tensorflow) (3.4.1)\n",
      "Collecting pyasn1<0.5.0,>=0.4.6\n",
      "  Downloading pyasn1-0.4.8-py2.py3-none-any.whl (77 kB)\n",
      "Requirement already satisfied: chardet<5,>=3.0.2 in c:\\users\\ram khandelwal\\anaconda3\\lib\\site-packages (from requests<3,>=2.21.0->tensorboard<2.9,>=2.8->tensorflow) (4.0.0)\n",
      "Requirement already satisfied: urllib3<1.27,>=1.21.1 in c:\\users\\ram khandelwal\\anaconda3\\lib\\site-packages (from requests<3,>=2.21.0->tensorboard<2.9,>=2.8->tensorflow) (1.26.4)\n",
      "Requirement already satisfied: certifi>=2017.4.17 in c:\\users\\ram khandelwal\\anaconda3\\lib\\site-packages (from requests<3,>=2.21.0->tensorboard<2.9,>=2.8->tensorflow) (2020.12.5)\n",
      "Requirement already satisfied: idna<3,>=2.5 in c:\\users\\ram khandelwal\\anaconda3\\lib\\site-packages (from requests<3,>=2.21.0->tensorboard<2.9,>=2.8->tensorflow) (2.10)\n",
      "Collecting oauthlib>=3.0.0\n",
      "  Downloading oauthlib-3.2.0-py3-none-any.whl (151 kB)\n",
      "Building wheels for collected packages: termcolor\n",
      "  Building wheel for termcolor (setup.py): started\n",
      "  Building wheel for termcolor (setup.py): finished with status 'done'\n",
      "  Created wheel for termcolor: filename=termcolor-1.1.0-py3-none-any.whl size=4829 sha256=667b2ecfe6161d39ed8580f4061a80ae0d6928a054906e7492a477fcadb9fc61\n",
      "  Stored in directory: c:\\users\\ram khandelwal\\appdata\\local\\pip\\cache\\wheels\\a0\\16\\9c\\5473df82468f958445479c59e784896fa24f4a5fc024b0f501\n",
      "Successfully built termcolor\n",
      "Installing collected packages: pyasn1, rsa, pyasn1-modules, oauthlib, cachetools, requests-oauthlib, importlib-metadata, google-auth, tensorboard-plugin-wit, tensorboard-data-server, protobuf, markdown, grpcio, google-auth-oauthlib, absl-py, tf-estimator-nightly, termcolor, tensorflow-io-gcs-filesystem, tensorboard, opt-einsum, libclang, keras-preprocessing, keras, google-pasta, gast, flatbuffers, astunparse, tensorflow\n",
      "  Attempting uninstall: importlib-metadata\n",
      "    Found existing installation: importlib-metadata 3.10.0\n",
      "    Uninstalling importlib-metadata-3.10.0:\n",
      "      Successfully uninstalled importlib-metadata-3.10.0\n",
      "Successfully installed absl-py-1.0.0 astunparse-1.6.3 cachetools-5.0.0 flatbuffers-2.0 gast-0.5.3 google-auth-2.6.3 google-auth-oauthlib-0.4.6 google-pasta-0.2.0 grpcio-1.44.0 importlib-metadata-4.11.3 keras-2.8.0 keras-preprocessing-1.1.2 libclang-13.0.0 markdown-3.3.6 oauthlib-3.2.0 opt-einsum-3.3.0 protobuf-3.20.0 pyasn1-0.4.8 pyasn1-modules-0.2.8 requests-oauthlib-1.3.1 rsa-4.8 tensorboard-2.8.0 tensorboard-data-server-0.6.1 tensorboard-plugin-wit-1.8.1 tensorflow-2.8.0 tensorflow-io-gcs-filesystem-0.24.0 termcolor-1.1.0 tf-estimator-nightly-2.8.0.dev2021122109\n"
     ]
    }
   ],
   "source": [
    "#!pip install opencv-python\n",
    "#!pip install tensorflow"
   ]
  },
  {
   "cell_type": "code",
   "execution_count": 31,
   "id": "cefbe03c",
   "metadata": {},
   "outputs": [
    {
     "name": "stdout",
     "output_type": "stream",
     "text": [
      " Volume in drive C is Windows\n",
      " Volume Serial Number is F01D-1899\n",
      "\n",
      " Directory of C:\\Users\\Ram Khandelwal\\Desktop\n",
      "\n",
      "10-04-2022  17:53    <DIR>          .\n",
      "03-04-2022  17:10    <DIR>          ..\n",
      "10-04-2022  16:53    <DIR>          .ipynb_checkpoints\n",
      "10-04-2022  16:17    <DIR>          COVID-19_Radiography_Dataset\n",
      "09-12-2021  21:22    <DIR>          cryptochain\n",
      "25-10-2021  07:13    <DIR>          dbms projects\n",
      "10-04-2022  17:53            15,458 design_project.ipynb\n",
      "19-11-2021  23:02    <DIR>          Hostel\n",
      "07-12-2021  07:49    <DIR>          ihc\n",
      "06-11-2021  14:52             2,112 second_chance.js\n",
      "10-04-2022  17:05    <DIR>          tmp\n",
      "               2 File(s)         17,570 bytes\n",
      "               9 Dir(s)  69,471,424,512 bytes free\n"
     ]
    }
   ],
   "source": [
    "ls"
   ]
  },
  {
   "cell_type": "code",
   "execution_count": 42,
   "id": "6fa54694",
   "metadata": {},
   "outputs": [
    {
     "name": "stdout",
     "output_type": "stream",
     "text": [
      "Found 9922 files belonging to 2 classes.\n",
      "Using 8930 files for training.\n",
      "Found 9922 files belonging to 2 classes.\n",
      "Using 992 files for validation.\n"
     ]
    }
   ],
   "source": [
    "dir = r\"tmp\\train_data\"\n",
    "\n",
    "train_ds = tf.keras.preprocessing.image_dataset_from_directory(\n",
    "    dir, labels = \"inferred\", label_mode = \"int\", class_names = ['COVID','Viral Pneumonia'],\n",
    "    color_mode = \"rgb\", batch_size = 32, image_size = (224, 224), \n",
    "    shuffle = True, seed = 42, validation_split = 0.1, subset = \"training\", interpolation = \"bicubic\")\n",
    "\n",
    "val_ds = tf.keras.preprocessing.image_dataset_from_directory(\n",
    "    dir, labels = \"inferred\", label_mode = \"int\", class_names = ['COVID','Viral Pneumonia'],\n",
    "    color_mode = \"rgb\", batch_size = 32, image_size = (224, 224), \n",
    "    shuffle = True, seed = 42, validation_split = 0.1, subset = \"validation\", interpolation = \"bicubic\")"
   ]
  },
  {
   "cell_type": "code",
   "execution_count": 43,
   "id": "4bc5dacb",
   "metadata": {},
   "outputs": [
    {
     "name": "stdout",
     "output_type": "stream",
     "text": [
      "['COVID', 'Viral Pneumonia']\n"
     ]
    }
   ],
   "source": [
    "class_names = train_ds.class_names\n",
    "print(class_names)"
   ]
  },
  {
   "cell_type": "code",
   "execution_count": 44,
   "id": "6559024e",
   "metadata": {},
   "outputs": [],
   "source": [
    "train_ds = train_ds.map(lambda x, y : (x, tf.one_hot(y, depth = 2)))\n",
    "val_ds = val_ds.map(lambda x, y : (x, tf.one_hot(y,depth = 2)))"
   ]
  },
  {
   "cell_type": "code",
   "execution_count": 45,
   "id": "5d07637a",
   "metadata": {},
   "outputs": [],
   "source": [
    "lr = 0.000001      # The Learning Rate"
   ]
  },
  {
   "cell_type": "code",
   "execution_count": 46,
   "id": "d5b83d80",
   "metadata": {},
   "outputs": [],
   "source": [
    "def alex_model(input_shape):\n",
    "    \n",
    "    input_img = tf.keras.Input(shape=input_shape)\n",
    "    \n",
    "    A1 = layer.Conv2D(filters=96, kernel_size=11, strides =(4,4), activation='ReLU')(input_img)\n",
    "    P1 = layer.MaxPool2D(pool_size=(3,3), strides=(2,2), padding='valid')(A1)\n",
    "    \n",
    "    A2 = layer.Conv2D(filters=256, kernel_size=5, padding='same', activation='ReLU')(P1)\n",
    "    P2 = layer.MaxPool2D(pool_size=(3,3), strides=(2,2))(A2)\n",
    "    \n",
    "    A3 = layer.Conv2D(filters=384, kernel_size=3, padding='same', activation='ReLU')(P2)\n",
    "    \n",
    "    A4 = layer.Conv2D(filters=384, kernel_size=3, padding='same', activation='ReLU')(A3)\n",
    "    \n",
    "    A5 = layer.Conv2D(filters=256, kernel_size=3, padding='same', activation='ReLU')(A4)\n",
    "    P5 = layer.MaxPool2D(pool_size=(3,3), strides=(2,2))(A5)\n",
    "    \n",
    "    F = layer.Flatten()(P5)\n",
    "    \n",
    "    FC6 = layer.Dense(units=1024, activation='ReLU')(F)\n",
    "    \n",
    "    FC7 = layer.Dense(units=512, activation='ReLU')(FC6)\n",
    "    \n",
    "    outputs = layer.Dense(units = 2, activation = \"softmax\")(FC7)\n",
    "    \n",
    "    model = tf.keras.Model(inputs=input_img, outputs=outputs)\n",
    "    \n",
    "    return model"
   ]
  },
  {
   "cell_type": "code",
   "execution_count": 47,
   "id": "ad9ca158",
   "metadata": {},
   "outputs": [
    {
     "name": "stdout",
     "output_type": "stream",
     "text": [
      "Model: \"model\"\n",
      "_________________________________________________________________\n",
      " Layer (type)                Output Shape              Param #   \n",
      "=================================================================\n",
      " input_1 (InputLayer)        [(None, 224, 224, 3)]     0         \n",
      "                                                                 \n",
      " conv2d (Conv2D)             (None, 54, 54, 96)        34944     \n",
      "                                                                 \n",
      " max_pooling2d (MaxPooling2D  (None, 26, 26, 96)       0         \n",
      " )                                                               \n",
      "                                                                 \n",
      " conv2d_1 (Conv2D)           (None, 26, 26, 256)       614656    \n",
      "                                                                 \n",
      " max_pooling2d_1 (MaxPooling  (None, 12, 12, 256)      0         \n",
      " 2D)                                                             \n",
      "                                                                 \n",
      " conv2d_2 (Conv2D)           (None, 12, 12, 384)       885120    \n",
      "                                                                 \n",
      " conv2d_3 (Conv2D)           (None, 12, 12, 384)       1327488   \n",
      "                                                                 \n",
      " conv2d_4 (Conv2D)           (None, 12, 12, 256)       884992    \n",
      "                                                                 \n",
      " max_pooling2d_2 (MaxPooling  (None, 5, 5, 256)        0         \n",
      " 2D)                                                             \n",
      "                                                                 \n",
      " flatten (Flatten)           (None, 6400)              0         \n",
      "                                                                 \n",
      " dense (Dense)               (None, 1024)              6554624   \n",
      "                                                                 \n",
      " dense_1 (Dense)             (None, 512)               524800    \n",
      "                                                                 \n",
      " dense_2 (Dense)             (None, 2)                 1026      \n",
      "                                                                 \n",
      "=================================================================\n",
      "Total params: 10,827,650\n",
      "Trainable params: 10,827,650\n",
      "Non-trainable params: 0\n",
      "_________________________________________________________________\n"
     ]
    }
   ],
   "source": [
    "Alex_model = alex_model((224, 224, 3))\n",
    "Alex_model.compile(optimizer=tf.keras.optimizers.Adam(learning_rate=lr),\n",
    "                   loss='binary_crossentropy',\n",
    "                   metrics=['accuracy', tfa.metrics.F1Score(num_classes=2, threshold=0.5), tf.keras.metrics.Precision(), tf.keras.metrics.Recall()])\n",
    "Alex_model.summary()"
   ]
  },
  {
   "cell_type": "code",
   "execution_count": 48,
   "id": "9d8a96a3",
   "metadata": {},
   "outputs": [],
   "source": [
    "checkpoint_path = 'training/conv/Alex_cp.ckpt'\n",
    "checkpoint_dir = os.path.dirname(checkpoint_path)\n",
    "\n",
    "cp_callback = tf.keras.callbacks.ModelCheckpoint(checkpoint_path,\n",
    "                                                save_weights_only=False,\n",
    "                                                save_freq ='epoch',\n",
    "                                                verbose=1)\n",
    "estop = tf.keras.callbacks.EarlyStopping(monitor=\"val_loss\",\n",
    "                                         min_delta=0.0001,\n",
    "                                         patience=5,\n",
    "                                         mode=\"min\",\n",
    "                                         restore_best_weights=True)"
   ]
  },
  {
   "cell_type": "code",
   "execution_count": 50,
   "id": "f797c49e",
   "metadata": {},
   "outputs": [
    {
     "name": "stdout",
     "output_type": "stream",
     "text": [
      "Epoch 1/10\n",
      "280/280 [==============================] - ETA: 0s - loss: 0.3645 - accuracy: 0.8726 - f1_score: 0.8244 - precision: 0.8726 - recall: 0.8726\n",
      "Epoch 1: saving model to training/conv\\Alex_cp.ckpt\n"
     ]
    },
    {
     "name": "stderr",
     "output_type": "stream",
     "text": [
      "WARNING:absl:Found untraced functions such as re_lu_layer_call_fn, re_lu_layer_call_and_return_conditional_losses, re_lu_1_layer_call_fn, re_lu_1_layer_call_and_return_conditional_losses, re_lu_2_layer_call_fn while saving (showing 5 of 14). These functions will not be directly callable after loading.\n"
     ]
    },
    {
     "name": "stdout",
     "output_type": "stream",
     "text": [
      "INFO:tensorflow:Assets written to: training/conv\\Alex_cp.ckpt\\assets\n"
     ]
    },
    {
     "name": "stderr",
     "output_type": "stream",
     "text": [
      "INFO:tensorflow:Assets written to: training/conv\\Alex_cp.ckpt\\assets\n"
     ]
    },
    {
     "name": "stdout",
     "output_type": "stream",
     "text": [
      "280/280 [==============================] - 359s 1s/step - loss: 0.3645 - accuracy: 0.8726 - f1_score: 0.8244 - precision: 0.8726 - recall: 0.8726 - val_loss: 0.1808 - val_accuracy: 0.9496 - val_f1_score: 0.9330 - val_precision: 0.9496 - val_recall: 0.9496\n",
      "Epoch 2/10\n",
      "280/280 [==============================] - ETA: 0s - loss: 0.1400 - accuracy: 0.9613 - f1_score: 0.9498 - precision: 0.9613 - recall: 0.9613\n",
      "Epoch 2: saving model to training/conv\\Alex_cp.ckpt\n"
     ]
    },
    {
     "name": "stderr",
     "output_type": "stream",
     "text": [
      "WARNING:absl:Found untraced functions such as re_lu_layer_call_fn, re_lu_layer_call_and_return_conditional_losses, re_lu_1_layer_call_fn, re_lu_1_layer_call_and_return_conditional_losses, re_lu_2_layer_call_fn while saving (showing 5 of 14). These functions will not be directly callable after loading.\n"
     ]
    },
    {
     "name": "stdout",
     "output_type": "stream",
     "text": [
      "INFO:tensorflow:Assets written to: training/conv\\Alex_cp.ckpt\\assets\n"
     ]
    },
    {
     "name": "stderr",
     "output_type": "stream",
     "text": [
      "INFO:tensorflow:Assets written to: training/conv\\Alex_cp.ckpt\\assets\n"
     ]
    },
    {
     "name": "stdout",
     "output_type": "stream",
     "text": [
      "280/280 [==============================] - 371s 1s/step - loss: 0.1400 - accuracy: 0.9613 - f1_score: 0.9498 - precision: 0.9613 - recall: 0.9613 - val_loss: 0.1215 - val_accuracy: 0.9708 - val_f1_score: 0.9619 - val_precision: 0.9708 - val_recall: 0.9708\n",
      "Epoch 3/10\n",
      "280/280 [==============================] - ETA: 0s - loss: 0.0999 - accuracy: 0.9731 - f1_score: 0.9656 - precision: 0.9731 - recall: 0.9731\n",
      "Epoch 3: saving model to training/conv\\Alex_cp.ckpt\n"
     ]
    },
    {
     "name": "stderr",
     "output_type": "stream",
     "text": [
      "WARNING:absl:Found untraced functions such as re_lu_layer_call_fn, re_lu_layer_call_and_return_conditional_losses, re_lu_1_layer_call_fn, re_lu_1_layer_call_and_return_conditional_losses, re_lu_2_layer_call_fn while saving (showing 5 of 14). These functions will not be directly callable after loading.\n"
     ]
    },
    {
     "name": "stdout",
     "output_type": "stream",
     "text": [
      "INFO:tensorflow:Assets written to: training/conv\\Alex_cp.ckpt\\assets\n"
     ]
    },
    {
     "name": "stderr",
     "output_type": "stream",
     "text": [
      "INFO:tensorflow:Assets written to: training/conv\\Alex_cp.ckpt\\assets\n"
     ]
    },
    {
     "name": "stdout",
     "output_type": "stream",
     "text": [
      "280/280 [==============================] - 346s 1s/step - loss: 0.0999 - accuracy: 0.9731 - f1_score: 0.9656 - precision: 0.9731 - recall: 0.9731 - val_loss: 0.0996 - val_accuracy: 0.9758 - val_f1_score: 0.9685 - val_precision: 0.9758 - val_recall: 0.9758\n",
      "Epoch 4/10\n",
      "280/280 [==============================] - ETA: 0s - loss: 0.0805 - accuracy: 0.9787 - f1_score: 0.9728 - precision: 0.9787 - recall: 0.9787\n",
      "Epoch 4: saving model to training/conv\\Alex_cp.ckpt\n"
     ]
    },
    {
     "name": "stderr",
     "output_type": "stream",
     "text": [
      "WARNING:absl:Found untraced functions such as re_lu_layer_call_fn, re_lu_layer_call_and_return_conditional_losses, re_lu_1_layer_call_fn, re_lu_1_layer_call_and_return_conditional_losses, re_lu_2_layer_call_fn while saving (showing 5 of 14). These functions will not be directly callable after loading.\n"
     ]
    },
    {
     "name": "stdout",
     "output_type": "stream",
     "text": [
      "INFO:tensorflow:Assets written to: training/conv\\Alex_cp.ckpt\\assets\n"
     ]
    },
    {
     "name": "stderr",
     "output_type": "stream",
     "text": [
      "INFO:tensorflow:Assets written to: training/conv\\Alex_cp.ckpt\\assets\n"
     ]
    },
    {
     "name": "stdout",
     "output_type": "stream",
     "text": [
      "280/280 [==============================] - 344s 1s/step - loss: 0.0805 - accuracy: 0.9787 - f1_score: 0.9728 - precision: 0.9787 - recall: 0.9787 - val_loss: 0.0889 - val_accuracy: 0.9758 - val_f1_score: 0.9689 - val_precision: 0.9758 - val_recall: 0.9758\n",
      "Epoch 5/10\n",
      "280/280 [==============================] - ETA: 0s - loss: 0.0688 - accuracy: 0.9825 - f1_score: 0.9777 - precision: 0.9825 - recall: 0.9825\n",
      "Epoch 5: saving model to training/conv\\Alex_cp.ckpt\n"
     ]
    },
    {
     "name": "stderr",
     "output_type": "stream",
     "text": [
      "WARNING:absl:Found untraced functions such as re_lu_layer_call_fn, re_lu_layer_call_and_return_conditional_losses, re_lu_1_layer_call_fn, re_lu_1_layer_call_and_return_conditional_losses, re_lu_2_layer_call_fn while saving (showing 5 of 14). These functions will not be directly callable after loading.\n"
     ]
    },
    {
     "name": "stdout",
     "output_type": "stream",
     "text": [
      "INFO:tensorflow:Assets written to: training/conv\\Alex_cp.ckpt\\assets\n"
     ]
    },
    {
     "name": "stderr",
     "output_type": "stream",
     "text": [
      "INFO:tensorflow:Assets written to: training/conv\\Alex_cp.ckpt\\assets\n"
     ]
    },
    {
     "name": "stdout",
     "output_type": "stream",
     "text": [
      "280/280 [==============================] - 366s 1s/step - loss: 0.0688 - accuracy: 0.9825 - f1_score: 0.9777 - precision: 0.9825 - recall: 0.9825 - val_loss: 0.0849 - val_accuracy: 0.9758 - val_f1_score: 0.9690 - val_precision: 0.9758 - val_recall: 0.9758\n",
      "Epoch 6/10\n",
      "280/280 [==============================] - ETA: 0s - loss: 0.0613 - accuracy: 0.9847 - f1_score: 0.9805 - precision: 0.9847 - recall: 0.9847\n",
      "Epoch 6: saving model to training/conv\\Alex_cp.ckpt\n"
     ]
    },
    {
     "name": "stderr",
     "output_type": "stream",
     "text": [
      "WARNING:absl:Found untraced functions such as re_lu_layer_call_fn, re_lu_layer_call_and_return_conditional_losses, re_lu_1_layer_call_fn, re_lu_1_layer_call_and_return_conditional_losses, re_lu_2_layer_call_fn while saving (showing 5 of 14). These functions will not be directly callable after loading.\n"
     ]
    },
    {
     "name": "stdout",
     "output_type": "stream",
     "text": [
      "INFO:tensorflow:Assets written to: training/conv\\Alex_cp.ckpt\\assets\n"
     ]
    },
    {
     "name": "stderr",
     "output_type": "stream",
     "text": [
      "INFO:tensorflow:Assets written to: training/conv\\Alex_cp.ckpt\\assets\n"
     ]
    },
    {
     "name": "stdout",
     "output_type": "stream",
     "text": [
      "280/280 [==============================] - 340s 1s/step - loss: 0.0613 - accuracy: 0.9847 - f1_score: 0.9805 - precision: 0.9847 - recall: 0.9847 - val_loss: 0.0768 - val_accuracy: 0.9808 - val_f1_score: 0.9751 - val_precision: 0.9808 - val_recall: 0.9808\n",
      "Epoch 7/10\n",
      "280/280 [==============================] - ETA: 0s - loss: 0.0537 - accuracy: 0.9857 - f1_score: 0.9818 - precision: 0.9857 - recall: 0.9857\n",
      "Epoch 7: saving model to training/conv\\Alex_cp.ckpt\n"
     ]
    },
    {
     "name": "stderr",
     "output_type": "stream",
     "text": [
      "WARNING:absl:Found untraced functions such as re_lu_layer_call_fn, re_lu_layer_call_and_return_conditional_losses, re_lu_1_layer_call_fn, re_lu_1_layer_call_and_return_conditional_losses, re_lu_2_layer_call_fn while saving (showing 5 of 14). These functions will not be directly callable after loading.\n"
     ]
    },
    {
     "name": "stdout",
     "output_type": "stream",
     "text": [
      "INFO:tensorflow:Assets written to: training/conv\\Alex_cp.ckpt\\assets\n"
     ]
    },
    {
     "name": "stderr",
     "output_type": "stream",
     "text": [
      "INFO:tensorflow:Assets written to: training/conv\\Alex_cp.ckpt\\assets\n"
     ]
    },
    {
     "name": "stdout",
     "output_type": "stream",
     "text": [
      "280/280 [==============================] - 345s 1s/step - loss: 0.0537 - accuracy: 0.9857 - f1_score: 0.9818 - precision: 0.9857 - recall: 0.9857 - val_loss: 0.0721 - val_accuracy: 0.9758 - val_f1_score: 0.9690 - val_precision: 0.9758 - val_recall: 0.9758\n",
      "Epoch 8/10\n",
      "280/280 [==============================] - ETA: 0s - loss: 0.0498 - accuracy: 0.9876 - f1_score: 0.9842 - precision: 0.9876 - recall: 0.9876\n",
      "Epoch 8: saving model to training/conv\\Alex_cp.ckpt\n"
     ]
    },
    {
     "name": "stderr",
     "output_type": "stream",
     "text": [
      "WARNING:absl:Found untraced functions such as re_lu_layer_call_fn, re_lu_layer_call_and_return_conditional_losses, re_lu_1_layer_call_fn, re_lu_1_layer_call_and_return_conditional_losses, re_lu_2_layer_call_fn while saving (showing 5 of 14). These functions will not be directly callable after loading.\n"
     ]
    },
    {
     "name": "stdout",
     "output_type": "stream",
     "text": [
      "INFO:tensorflow:Assets written to: training/conv\\Alex_cp.ckpt\\assets\n"
     ]
    },
    {
     "name": "stderr",
     "output_type": "stream",
     "text": [
      "INFO:tensorflow:Assets written to: training/conv\\Alex_cp.ckpt\\assets\n"
     ]
    },
    {
     "name": "stdout",
     "output_type": "stream",
     "text": [
      "280/280 [==============================] - 356s 1s/step - loss: 0.0498 - accuracy: 0.9876 - f1_score: 0.9842 - precision: 0.9876 - recall: 0.9876 - val_loss: 0.0701 - val_accuracy: 0.9778 - val_f1_score: 0.9714 - val_precision: 0.9778 - val_recall: 0.9778\n",
      "Epoch 9/10\n",
      "280/280 [==============================] - ETA: 0s - loss: 0.0439 - accuracy: 0.9879 - f1_score: 0.9846 - precision: 0.9879 - recall: 0.9879\n",
      "Epoch 9: saving model to training/conv\\Alex_cp.ckpt\n"
     ]
    },
    {
     "name": "stderr",
     "output_type": "stream",
     "text": [
      "WARNING:absl:Found untraced functions such as re_lu_layer_call_fn, re_lu_layer_call_and_return_conditional_losses, re_lu_1_layer_call_fn, re_lu_1_layer_call_and_return_conditional_losses, re_lu_2_layer_call_fn while saving (showing 5 of 14). These functions will not be directly callable after loading.\n"
     ]
    },
    {
     "name": "stdout",
     "output_type": "stream",
     "text": [
      "INFO:tensorflow:Assets written to: training/conv\\Alex_cp.ckpt\\assets\n"
     ]
    },
    {
     "name": "stderr",
     "output_type": "stream",
     "text": [
      "INFO:tensorflow:Assets written to: training/conv\\Alex_cp.ckpt\\assets\n"
     ]
    },
    {
     "name": "stdout",
     "output_type": "stream",
     "text": [
      "280/280 [==============================] - 356s 1s/step - loss: 0.0439 - accuracy: 0.9879 - f1_score: 0.9846 - precision: 0.9879 - recall: 0.9879 - val_loss: 0.0704 - val_accuracy: 0.9758 - val_f1_score: 0.9691 - val_precision: 0.9758 - val_recall: 0.9758\n",
      "Epoch 10/10\n",
      "280/280 [==============================] - ETA: 0s - loss: 0.0398 - accuracy: 0.9906 - f1_score: 0.9881 - precision: 0.9906 - recall: 0.9906\n",
      "Epoch 10: saving model to training/conv\\Alex_cp.ckpt\n"
     ]
    },
    {
     "name": "stderr",
     "output_type": "stream",
     "text": [
      "WARNING:absl:Found untraced functions such as re_lu_layer_call_fn, re_lu_layer_call_and_return_conditional_losses, re_lu_1_layer_call_fn, re_lu_1_layer_call_and_return_conditional_losses, re_lu_2_layer_call_fn while saving (showing 5 of 14). These functions will not be directly callable after loading.\n"
     ]
    },
    {
     "name": "stdout",
     "output_type": "stream",
     "text": [
      "INFO:tensorflow:Assets written to: training/conv\\Alex_cp.ckpt\\assets\n"
     ]
    },
    {
     "name": "stderr",
     "output_type": "stream",
     "text": [
      "INFO:tensorflow:Assets written to: training/conv\\Alex_cp.ckpt\\assets\n"
     ]
    },
    {
     "name": "stdout",
     "output_type": "stream",
     "text": [
      "\b\b\b\b\b\b\b\b\b\b\b\b\b\b\b\b\b\b\b\b\b\b\b\b\b\b\b\b\b\b\b\b\b\b\b\b\b\b\b\b\b\b\b\b\b\b\b\b\b\b\b\b\b\b\b\b\b\b\b\b\b\b\b\b\b\b\b\b\b\b\b\b\b\b\b\b\b\b\b\b\b\b\b\b\b\b\b\b\b\b\b\b\b\b\b\b\b\b\b\b\b\b\b\b\b\b\b\b\b\b\b\b\b\b\b\b\b\b\b\b\b\b\b\b\b\b\b\b\b\b\b\b\b\b\b\b\b\b\b\b\r",
      "280/280 [==============================] - 339s 1s/step - loss: 0.0398 - accuracy: 0.9906 - f1_score: 0.9881 - precision: 0.9906 - recall: 0.9906 - val_loss: 0.0680 - val_accuracy: 0.9778 - val_f1_score: 0.9716 - val_precision: 0.9778 - val_recall: 0.9778\n"
     ]
    }
   ],
   "source": [
    "historyA = Alex_model.fit(train_ds, \n",
    "                          epochs=10, \n",
    "                          validation_data=val_ds, \n",
    "                          callbacks = [cp_callback, estop])\n",
    "Alex_model.save('AlexNet_model.h5')"
   ]
  },
  {
   "cell_type": "code",
   "execution_count": 51,
   "id": "115c829a",
   "metadata": {},
   "outputs": [
    {
     "data": {
      "text/html": [
       "<div>\n",
       "<style scoped>\n",
       "    .dataframe tbody tr th:only-of-type {\n",
       "        vertical-align: middle;\n",
       "    }\n",
       "\n",
       "    .dataframe tbody tr th {\n",
       "        vertical-align: top;\n",
       "    }\n",
       "\n",
       "    .dataframe thead th {\n",
       "        text-align: right;\n",
       "    }\n",
       "</style>\n",
       "<table border=\"1\" class=\"dataframe\">\n",
       "  <thead>\n",
       "    <tr style=\"text-align: right;\">\n",
       "      <th></th>\n",
       "      <th>loss</th>\n",
       "      <th>accuracy</th>\n",
       "      <th>f1_score</th>\n",
       "      <th>precision</th>\n",
       "      <th>recall</th>\n",
       "      <th>val_loss</th>\n",
       "      <th>val_accuracy</th>\n",
       "      <th>val_f1_score</th>\n",
       "      <th>val_precision</th>\n",
       "      <th>val_recall</th>\n",
       "    </tr>\n",
       "  </thead>\n",
       "  <tbody>\n",
       "    <tr>\n",
       "      <th>0</th>\n",
       "      <td>0.364469</td>\n",
       "      <td>0.872564</td>\n",
       "      <td>[0.91636044, 0.7324871]</td>\n",
       "      <td>0.872564</td>\n",
       "      <td>0.872564</td>\n",
       "      <td>0.180835</td>\n",
       "      <td>0.949597</td>\n",
       "      <td>[0.96635264, 0.8995984]</td>\n",
       "      <td>0.949597</td>\n",
       "      <td>0.949597</td>\n",
       "    </tr>\n",
       "    <tr>\n",
       "      <th>1</th>\n",
       "      <td>0.139992</td>\n",
       "      <td>0.961254</td>\n",
       "      <td>[0.9737799, 0.9258148]</td>\n",
       "      <td>0.961254</td>\n",
       "      <td>0.961254</td>\n",
       "      <td>0.121487</td>\n",
       "      <td>0.970766</td>\n",
       "      <td>[0.9802856, 0.94346976]</td>\n",
       "      <td>0.970766</td>\n",
       "      <td>0.970766</td>\n",
       "    </tr>\n",
       "    <tr>\n",
       "      <th>2</th>\n",
       "      <td>0.099932</td>\n",
       "      <td>0.973124</td>\n",
       "      <td>[0.9816905, 0.94949496]</td>\n",
       "      <td>0.973124</td>\n",
       "      <td>0.973124</td>\n",
       "      <td>0.099628</td>\n",
       "      <td>0.975806</td>\n",
       "      <td>[0.98367345, 0.95330733]</td>\n",
       "      <td>0.975806</td>\n",
       "      <td>0.975806</td>\n",
       "    </tr>\n",
       "    <tr>\n",
       "      <th>3</th>\n",
       "      <td>0.080524</td>\n",
       "      <td>0.978723</td>\n",
       "      <td>[0.9854961, 0.960084]</td>\n",
       "      <td>0.978723</td>\n",
       "      <td>0.978723</td>\n",
       "      <td>0.088905</td>\n",
       "      <td>0.975806</td>\n",
       "      <td>[0.98356164, 0.9541985]</td>\n",
       "      <td>0.975806</td>\n",
       "      <td>0.975806</td>\n",
       "    </tr>\n",
       "    <tr>\n",
       "      <th>4</th>\n",
       "      <td>0.068756</td>\n",
       "      <td>0.982531</td>\n",
       "      <td>[0.98807704, 0.96733665]</td>\n",
       "      <td>0.982531</td>\n",
       "      <td>0.982531</td>\n",
       "      <td>0.084914</td>\n",
       "      <td>0.975806</td>\n",
       "      <td>[0.9835165, 0.9545454]</td>\n",
       "      <td>0.975806</td>\n",
       "      <td>0.975806</td>\n",
       "    </tr>\n",
       "  </tbody>\n",
       "</table>\n",
       "</div>"
      ],
      "text/plain": [
       "       loss  accuracy                  f1_score  precision    recall  \\\n",
       "0  0.364469  0.872564   [0.91636044, 0.7324871]   0.872564  0.872564   \n",
       "1  0.139992  0.961254    [0.9737799, 0.9258148]   0.961254  0.961254   \n",
       "2  0.099932  0.973124   [0.9816905, 0.94949496]   0.973124  0.973124   \n",
       "3  0.080524  0.978723     [0.9854961, 0.960084]   0.978723  0.978723   \n",
       "4  0.068756  0.982531  [0.98807704, 0.96733665]   0.982531  0.982531   \n",
       "\n",
       "   val_loss  val_accuracy              val_f1_score  val_precision  val_recall  \n",
       "0  0.180835      0.949597   [0.96635264, 0.8995984]       0.949597    0.949597  \n",
       "1  0.121487      0.970766   [0.9802856, 0.94346976]       0.970766    0.970766  \n",
       "2  0.099628      0.975806  [0.98367345, 0.95330733]       0.975806    0.975806  \n",
       "3  0.088905      0.975806   [0.98356164, 0.9541985]       0.975806    0.975806  \n",
       "4  0.084914      0.975806    [0.9835165, 0.9545454]       0.975806    0.975806  "
      ]
     },
     "execution_count": 51,
     "metadata": {},
     "output_type": "execute_result"
    }
   ],
   "source": [
    "l = historyA.history.keys()\n",
    "metrics = list(historyA.history.keys())\n",
    "df = pd.DataFrame(historyA.history)\n",
    "df.head()"
   ]
  },
  {
   "cell_type": "code",
   "execution_count": 52,
   "id": "c92b63eb",
   "metadata": {},
   "outputs": [
    {
     "data": {
      "text/html": [
       "<div>\n",
       "<style scoped>\n",
       "    .dataframe tbody tr th:only-of-type {\n",
       "        vertical-align: middle;\n",
       "    }\n",
       "\n",
       "    .dataframe tbody tr th {\n",
       "        vertical-align: top;\n",
       "    }\n",
       "\n",
       "    .dataframe thead th {\n",
       "        text-align: right;\n",
       "    }\n",
       "</style>\n",
       "<table border=\"1\" class=\"dataframe\">\n",
       "  <thead>\n",
       "    <tr style=\"text-align: right;\">\n",
       "      <th></th>\n",
       "      <th>loss</th>\n",
       "      <th>accuracy</th>\n",
       "      <th>f1_score</th>\n",
       "      <th>precision</th>\n",
       "      <th>recall</th>\n",
       "      <th>val_loss</th>\n",
       "      <th>val_accuracy</th>\n",
       "      <th>val_f1_score</th>\n",
       "      <th>val_precision</th>\n",
       "      <th>val_recall</th>\n",
       "    </tr>\n",
       "  </thead>\n",
       "  <tbody>\n",
       "    <tr>\n",
       "      <th>0</th>\n",
       "      <td>36.446920</td>\n",
       "      <td>87.256438</td>\n",
       "      <td>91.636044</td>\n",
       "      <td>87.256438</td>\n",
       "      <td>87.256438</td>\n",
       "      <td>18.083462</td>\n",
       "      <td>94.959676</td>\n",
       "      <td>96.635264</td>\n",
       "      <td>94.959676</td>\n",
       "      <td>94.959676</td>\n",
       "    </tr>\n",
       "    <tr>\n",
       "      <th>1</th>\n",
       "      <td>13.999195</td>\n",
       "      <td>96.125418</td>\n",
       "      <td>97.377992</td>\n",
       "      <td>96.125418</td>\n",
       "      <td>96.125418</td>\n",
       "      <td>12.148716</td>\n",
       "      <td>97.076613</td>\n",
       "      <td>98.028558</td>\n",
       "      <td>97.076613</td>\n",
       "      <td>97.076613</td>\n",
       "    </tr>\n",
       "    <tr>\n",
       "      <th>2</th>\n",
       "      <td>9.993225</td>\n",
       "      <td>97.312433</td>\n",
       "      <td>98.169053</td>\n",
       "      <td>97.312433</td>\n",
       "      <td>97.312433</td>\n",
       "      <td>9.962790</td>\n",
       "      <td>97.580647</td>\n",
       "      <td>98.367345</td>\n",
       "      <td>97.580647</td>\n",
       "      <td>97.580647</td>\n",
       "    </tr>\n",
       "    <tr>\n",
       "      <th>3</th>\n",
       "      <td>8.052352</td>\n",
       "      <td>97.872341</td>\n",
       "      <td>98.549610</td>\n",
       "      <td>97.872341</td>\n",
       "      <td>97.872341</td>\n",
       "      <td>8.890458</td>\n",
       "      <td>97.580647</td>\n",
       "      <td>98.356164</td>\n",
       "      <td>97.580647</td>\n",
       "      <td>97.580647</td>\n",
       "    </tr>\n",
       "    <tr>\n",
       "      <th>4</th>\n",
       "      <td>6.875570</td>\n",
       "      <td>98.253077</td>\n",
       "      <td>98.807704</td>\n",
       "      <td>98.253077</td>\n",
       "      <td>98.253077</td>\n",
       "      <td>8.491367</td>\n",
       "      <td>97.580647</td>\n",
       "      <td>98.351651</td>\n",
       "      <td>97.580647</td>\n",
       "      <td>97.580647</td>\n",
       "    </tr>\n",
       "  </tbody>\n",
       "</table>\n",
       "</div>"
      ],
      "text/plain": [
       "        loss   accuracy   f1_score  precision     recall   val_loss  \\\n",
       "0  36.446920  87.256438  91.636044  87.256438  87.256438  18.083462   \n",
       "1  13.999195  96.125418  97.377992  96.125418  96.125418  12.148716   \n",
       "2   9.993225  97.312433  98.169053  97.312433  97.312433   9.962790   \n",
       "3   8.052352  97.872341  98.549610  97.872341  97.872341   8.890458   \n",
       "4   6.875570  98.253077  98.807704  98.253077  98.253077   8.491367   \n",
       "\n",
       "   val_accuracy  val_f1_score  val_precision  val_recall  \n",
       "0     94.959676     96.635264      94.959676   94.959676  \n",
       "1     97.076613     98.028558      97.076613   97.076613  \n",
       "2     97.580647     98.367345      97.580647   97.580647  \n",
       "3     97.580647     98.356164      97.580647   97.580647  \n",
       "4     97.580647     98.351651      97.580647   97.580647  "
      ]
     },
     "execution_count": 52,
     "metadata": {},
     "output_type": "execute_result"
    }
   ],
   "source": [
    "def f1_mod(x):\n",
    "    return x[0]\n",
    "\n",
    "def per_cent(x):\n",
    "    return x*100\n",
    "    \n",
    "df['f1_score'] = df['f1_score'].apply(f1_mod)\n",
    "df['val_f1_score'] = df['val_f1_score'].apply(f1_mod)\n",
    "\n",
    "for i in df.columns:\n",
    "    df[i] = df[i].apply(per_cent)\n",
    "\n",
    "\n",
    "df.head()"
   ]
  },
  {
   "cell_type": "code",
   "execution_count": 53,
   "id": "42179a10",
   "metadata": {},
   "outputs": [
    {
     "name": "stderr",
     "output_type": "stream",
     "text": [
      "C:\\Users\\Ram Khandelwal\\anaconda3\\lib\\site-packages\\pandas\\core\\frame.py:4441: SettingWithCopyWarning: \n",
      "A value is trying to be set on a copy of a slice from a DataFrame\n",
      "\n",
      "See the caveats in the documentation: https://pandas.pydata.org/pandas-docs/stable/user_guide/indexing.html#returning-a-view-versus-a-copy\n",
      "  return super().rename(\n",
      "C:\\Users\\Ram Khandelwal\\anaconda3\\lib\\site-packages\\pandas\\core\\frame.py:4441: SettingWithCopyWarning: \n",
      "A value is trying to be set on a copy of a slice from a DataFrame\n",
      "\n",
      "See the caveats in the documentation: https://pandas.pydata.org/pandas-docs/stable/user_guide/indexing.html#returning-a-view-versus-a-copy\n",
      "  return super().rename(\n",
      "C:\\Users\\Ram Khandelwal\\anaconda3\\lib\\site-packages\\pandas\\core\\frame.py:4441: SettingWithCopyWarning: \n",
      "A value is trying to be set on a copy of a slice from a DataFrame\n",
      "\n",
      "See the caveats in the documentation: https://pandas.pydata.org/pandas-docs/stable/user_guide/indexing.html#returning-a-view-versus-a-copy\n",
      "  return super().rename(\n",
      "C:\\Users\\Ram Khandelwal\\anaconda3\\lib\\site-packages\\pandas\\core\\frame.py:4441: SettingWithCopyWarning: \n",
      "A value is trying to be set on a copy of a slice from a DataFrame\n",
      "\n",
      "See the caveats in the documentation: https://pandas.pydata.org/pandas-docs/stable/user_guide/indexing.html#returning-a-view-versus-a-copy\n",
      "  return super().rename(\n",
      "C:\\Users\\Ram Khandelwal\\anaconda3\\lib\\site-packages\\pandas\\core\\frame.py:4441: SettingWithCopyWarning: \n",
      "A value is trying to be set on a copy of a slice from a DataFrame\n",
      "\n",
      "See the caveats in the documentation: https://pandas.pydata.org/pandas-docs/stable/user_guide/indexing.html#returning-a-view-versus-a-copy\n",
      "  return super().rename(\n"
     ]
    },
    {
     "data": {
      "image/png": "[encoded data removed]",
      "text/plain": [
       "<Figure size 864x576 with 1 Axes>"
      ]
     },
     "metadata": {
      "needs_background": "light"
     },
     "output_type": "display_data"
    },
    {
     "data": {
      "image/png": "[encoded data removed]",
      "text/plain": [
       "<Figure size 864x576 with 1 Axes>"
      ]
     },
     "metadata": {
      "needs_background": "light"
     },
     "output_type": "display_data"
    },
    {
     "data": {
      "image/png": "[encoded data removed]",
      "text/plain": [
       "<Figure size 864x576 with 1 Axes>"
      ]
     },
     "metadata": {
      "needs_background": "light"
     },
     "output_type": "display_data"
    },
    {
     "data": {
      "image/png": "[encoded data removed]",
      "text/plain": [
       "<Figure size 864x576 with 1 Axes>"
      ]
     },
     "metadata": {
      "needs_background": "light"
     },
     "output_type": "display_data"
    },
    {
     "data": {
      "image/png": "[encoded data removed]",
      "text/plain": [
       "<Figure size 864x576 with 1 Axes>"
      ]
     },
     "metadata": {
      "needs_background": "light"
     },
     "output_type": "display_data"
    }
   ],
   "source": [
    "for i in range(len(l)//2):\n",
    "    tr = metrics[i]\n",
    "    val = \"val_\" + tr\n",
    "    df_pl= df[[tr,val]]\n",
    "    df_pl.rename(columns={tr:'Train',val:'Validation'},inplace=True)\n",
    "    df_pl.plot(title='Model '+tr,figsize=(12,8)).set(xlabel='Epoch',ylabel=tr)"
   ]
  },
  {
   "cell_type": "code",
   "execution_count": 54,
   "id": "eb8d8d4c",
   "metadata": {},
   "outputs": [],
   "source": [
    "def resnet_model(input_shape):\n",
    "    \n",
    "    input_img = tf.keras.Input(input_shape)\n",
    "    \n",
    "    base = tf.keras.applications.resnet50.ResNet50(input_shape = input_shape, weights = 'imagenet',\n",
    "                                                   include_top = False, input_tensor = input_img)\n",
    "    \n",
    "    base.trainable = False\n",
    "    \n",
    "    A0 = base.output\n",
    "    \n",
    "    A1 = layer.GlobalAveragePooling2D( )(A0)\n",
    "    N1 = layer.BatchNormalization()(A1)\n",
    "    N1 = layer.Dropout(0.1)(N1)\n",
    "    \n",
    "    A2 = layer.Dense(kernel_regularizer=tf.keras.regularizers.L2(0.0002),\n",
    "                     units=3072, activation='relu')(N1)\n",
    "    N2 = layer.BatchNormalization()(A2)\n",
    "    N2 = layer.Dropout(0.2)(N2)\n",
    "    \n",
    "    A3 = layer.Dense(kernel_regularizer=tf.keras.regularizers.L2(0.0002),\n",
    "                     units=512, activation='relu')(N2)\n",
    "    N3 = layer.BatchNormalization()(A3)\n",
    "    N3 = layer.Dropout(0.4)(N3)\n",
    "    \n",
    "    outputs = layer.Dense(units = 2, activation = 'softmax')(N3)\n",
    "    \n",
    "    model = tf.keras.Model(inputs = input_img, outputs = outputs)\n",
    "    \n",
    "    return model"
   ]
  },
  {
   "cell_type": "code",
   "execution_count": 55,
   "id": "1e681544",
   "metadata": {},
   "outputs": [],
   "source": [
    "checkpoint_path = 'training/conv/ResnetImgnet_cp.ckpt'\n",
    "checkpoint_dir = os.path.dirname(checkpoint_path)\n",
    "\n",
    "cp_callback = tf.keras.callbacks.ModelCheckpoint(checkpoint_path,\n",
    "                                                save_weights_only=False,\n",
    "                                                save_freq ='epoch',\n",
    "                                                verbose=1)\n",
    "\n",
    "estop = tf.keras.callbacks.EarlyStopping(monitor=\"val_loss\",\n",
    "                                         min_delta=0.0001,\n",
    "                                         patience=5,\n",
    "                                         mode=\"min\",\n",
    "                                         restore_best_weights=True)"
   ]
  },
  {
   "cell_type": "code",
   "execution_count": 56,
   "id": "3036ade6",
   "metadata": {},
   "outputs": [
    {
     "name": "stdout",
     "output_type": "stream",
     "text": [
      "Downloading data from https://storage.googleapis.com/tensorflow/keras-applications/resnet/resnet50_weights_tf_dim_ordering_tf_kernels_notop.h5\n",
      "94773248/94765736 [==============================] - 11s 0us/step\n",
      "94781440/94765736 [==============================] - 11s 0us/step\n",
      "Model: \"model_1\"\n",
      "__________________________________________________________________________________________________\n",
      " Layer (type)                   Output Shape         Param #     Connected to                     \n",
      "==================================================================================================\n",
      " input_2 (InputLayer)           [(None, 224, 224, 3  0           []                               \n",
      "                                )]                                                                \n",
      "                                                                                                  \n",
      " conv1_pad (ZeroPadding2D)      (None, 230, 230, 3)  0           ['input_2[0][0]']                \n",
      "                                                                                                  \n",
      " conv1_conv (Conv2D)            (None, 112, 112, 64  9472        ['conv1_pad[0][0]']              \n",
      "                                )                                                                 \n",
      "                                                                                                  \n",
      " conv1_bn (BatchNormalization)  (None, 112, 112, 64  256         ['conv1_conv[0][0]']             \n",
      "                                )                                                                 \n",
      "                                                                                                  \n",
      " conv1_relu (Activation)        (None, 112, 112, 64  0           ['conv1_bn[0][0]']               \n",
      "                                )                                                                 \n",
      "                                                                                                  \n",
      " pool1_pad (ZeroPadding2D)      (None, 114, 114, 64  0           ['conv1_relu[0][0]']             \n",
      "                                )                                                                 \n",
      "                                                                                                  \n",
      " pool1_pool (MaxPooling2D)      (None, 56, 56, 64)   0           ['pool1_pad[0][0]']              \n",
      "                                                                                                  \n",
      " conv2_block1_1_conv (Conv2D)   (None, 56, 56, 64)   4160        ['pool1_pool[0][0]']             \n",
      "                                                                                                  \n",
      " conv2_block1_1_bn (BatchNormal  (None, 56, 56, 64)  256         ['conv2_block1_1_conv[0][0]']    \n",
      " ization)                                                                                         \n",
      "                                                                                                  \n",
      " conv2_block1_1_relu (Activatio  (None, 56, 56, 64)  0           ['conv2_block1_1_bn[0][0]']      \n",
      " n)                                                                                               \n",
      "                                                                                                  \n",
      " conv2_block1_2_conv (Conv2D)   (None, 56, 56, 64)   36928       ['conv2_block1_1_relu[0][0]']    \n",
      "                                                                                                  \n",
      " conv2_block1_2_bn (BatchNormal  (None, 56, 56, 64)  256         ['conv2_block1_2_conv[0][0]']    \n",
      " ization)                                                                                         \n",
      "                                                                                                  \n",
      " conv2_block1_2_relu (Activatio  (None, 56, 56, 64)  0           ['conv2_block1_2_bn[0][0]']      \n",
      " n)                                                                                               \n",
      "                                                                                                  \n",
      " conv2_block1_0_conv (Conv2D)   (None, 56, 56, 256)  16640       ['pool1_pool[0][0]']             \n",
      "                                                                                                  \n",
      " conv2_block1_3_conv (Conv2D)   (None, 56, 56, 256)  16640       ['conv2_block1_2_relu[0][0]']    \n",
      "                                                                                                  \n",
      " conv2_block1_0_bn (BatchNormal  (None, 56, 56, 256)  1024       ['conv2_block1_0_conv[0][0]']    \n",
      " ization)                                                                                         \n",
      "                                                                                                  \n",
      " conv2_block1_3_bn (BatchNormal  (None, 56, 56, 256)  1024       ['conv2_block1_3_conv[0][0]']    \n",
      " ization)                                                                                         \n",
      "                                                                                                  \n",
      " conv2_block1_add (Add)         (None, 56, 56, 256)  0           ['conv2_block1_0_bn[0][0]',      \n",
      "                                                                  'conv2_block1_3_bn[0][0]']      \n",
      "                                                                                                  \n",
      " conv2_block1_out (Activation)  (None, 56, 56, 256)  0           ['conv2_block1_add[0][0]']       \n",
      "                                                                                                  \n",
      " conv2_block2_1_conv (Conv2D)   (None, 56, 56, 64)   16448       ['conv2_block1_out[0][0]']       \n",
      "                                                                                                  \n",
      " conv2_block2_1_bn (BatchNormal  (None, 56, 56, 64)  256         ['conv2_block2_1_conv[0][0]']    \n",
      " ization)                                                                                         \n",
      "                                                                                                  \n",
      " conv2_block2_1_relu (Activatio  (None, 56, 56, 64)  0           ['conv2_block2_1_bn[0][0]']      \n",
      " n)                                                                                               \n",
      "                                                                                                  \n",
      " conv2_block2_2_conv (Conv2D)   (None, 56, 56, 64)   36928       ['conv2_block2_1_relu[0][0]']    \n",
      "                                                                                                  \n",
      " conv2_block2_2_bn (BatchNormal  (None, 56, 56, 64)  256         ['conv2_block2_2_conv[0][0]']    \n",
      " ization)                                                                                         \n",
      "                                                                                                  \n",
      " conv2_block2_2_relu (Activatio  (None, 56, 56, 64)  0           ['conv2_block2_2_bn[0][0]']      \n",
      " n)                                                                                               \n",
      "                                                                                                  \n",
      " conv2_block2_3_conv (Conv2D)   (None, 56, 56, 256)  16640       ['conv2_block2_2_relu[0][0]']    \n",
      "                                                                                                  \n",
      " conv2_block2_3_bn (BatchNormal  (None, 56, 56, 256)  1024       ['conv2_block2_3_conv[0][0]']    \n",
      " ization)                                                                                         \n",
      "                                                                                                  \n",
      " conv2_block2_add (Add)         (None, 56, 56, 256)  0           ['conv2_block1_out[0][0]',       \n",
      "                                                                  'conv2_block2_3_bn[0][0]']      \n",
      "                                                                                                  \n",
      " conv2_block2_out (Activation)  (None, 56, 56, 256)  0           ['conv2_block2_add[0][0]']       \n",
      "                                                                                                  \n",
      " conv2_block3_1_conv (Conv2D)   (None, 56, 56, 64)   16448       ['conv2_block2_out[0][0]']       \n"
     ]
    },
    {
     "name": "stdout",
     "output_type": "stream",
     "text": [
      "                                                                                                  \n",
      " conv2_block3_1_bn (BatchNormal  (None, 56, 56, 64)  256         ['conv2_block3_1_conv[0][0]']    \n",
      " ization)                                                                                         \n",
      "                                                                                                  \n",
      " conv2_block3_1_relu (Activatio  (None, 56, 56, 64)  0           ['conv2_block3_1_bn[0][0]']      \n",
      " n)                                                                                               \n",
      "                                                                                                  \n",
      " conv2_block3_2_conv (Conv2D)   (None, 56, 56, 64)   36928       ['conv2_block3_1_relu[0][0]']    \n",
      "                                                                                                  \n",
      " conv2_block3_2_bn (BatchNormal  (None, 56, 56, 64)  256         ['conv2_block3_2_conv[0][0]']    \n",
      " ization)                                                                                         \n",
      "                                                                                                  \n",
      " conv2_block3_2_relu (Activatio  (None, 56, 56, 64)  0           ['conv2_block3_2_bn[0][0]']      \n",
      " n)                                                                                               \n",
      "                                                                                                  \n",
      " conv2_block3_3_conv (Conv2D)   (None, 56, 56, 256)  16640       ['conv2_block3_2_relu[0][0]']    \n",
      "                                                                                                  \n",
      " conv2_block3_3_bn (BatchNormal  (None, 56, 56, 256)  1024       ['conv2_block3_3_conv[0][0]']    \n",
      " ization)                                                                                         \n",
      "                                                                                                  \n",
      " conv2_block3_add (Add)         (None, 56, 56, 256)  0           ['conv2_block2_out[0][0]',       \n",
      "                                                                  'conv2_block3_3_bn[0][0]']      \n",
      "                                                                                                  \n",
      " conv2_block3_out (Activation)  (None, 56, 56, 256)  0           ['conv2_block3_add[0][0]']       \n",
      "                                                                                                  \n",
      " conv3_block1_1_conv (Conv2D)   (None, 28, 28, 128)  32896       ['conv2_block3_out[0][0]']       \n",
      "                                                                                                  \n",
      " conv3_block1_1_bn (BatchNormal  (None, 28, 28, 128)  512        ['conv3_block1_1_conv[0][0]']    \n",
      " ization)                                                                                         \n",
      "                                                                                                  \n",
      " conv3_block1_1_relu (Activatio  (None, 28, 28, 128)  0          ['conv3_block1_1_bn[0][0]']      \n",
      " n)                                                                                               \n",
      "                                                                                                  \n",
      " conv3_block1_2_conv (Conv2D)   (None, 28, 28, 128)  147584      ['conv3_block1_1_relu[0][0]']    \n",
      "                                                                                                  \n",
      " conv3_block1_2_bn (BatchNormal  (None, 28, 28, 128)  512        ['conv3_block1_2_conv[0][0]']    \n",
      " ization)                                                                                         \n",
      "                                                                                                  \n",
      " conv3_block1_2_relu (Activatio  (None, 28, 28, 128)  0          ['conv3_block1_2_bn[0][0]']      \n",
      " n)                                                                                               \n",
      "                                                                                                  \n",
      " conv3_block1_0_conv (Conv2D)   (None, 28, 28, 512)  131584      ['conv2_block3_out[0][0]']       \n",
      "                                                                                                  \n",
      " conv3_block1_3_conv (Conv2D)   (None, 28, 28, 512)  66048       ['conv3_block1_2_relu[0][0]']    \n",
      "                                                                                                  \n",
      " conv3_block1_0_bn (BatchNormal  (None, 28, 28, 512)  2048       ['conv3_block1_0_conv[0][0]']    \n",
      " ization)                                                                                         \n",
      "                                                                                                  \n",
      " conv3_block1_3_bn (BatchNormal  (None, 28, 28, 512)  2048       ['conv3_block1_3_conv[0][0]']    \n",
      " ization)                                                                                         \n",
      "                                                                                                  \n",
      " conv3_block1_add (Add)         (None, 28, 28, 512)  0           ['conv3_block1_0_bn[0][0]',      \n",
      "                                                                  'conv3_block1_3_bn[0][0]']      \n",
      "                                                                                                  \n",
      " conv3_block1_out (Activation)  (None, 28, 28, 512)  0           ['conv3_block1_add[0][0]']       \n",
      "                                                                                                  \n",
      " conv3_block2_1_conv (Conv2D)   (None, 28, 28, 128)  65664       ['conv3_block1_out[0][0]']       \n",
      "                                                                                                  \n",
      " conv3_block2_1_bn (BatchNormal  (None, 28, 28, 128)  512        ['conv3_block2_1_conv[0][0]']    \n",
      " ization)                                                                                         \n",
      "                                                                                                  \n",
      " conv3_block2_1_relu (Activatio  (None, 28, 28, 128)  0          ['conv3_block2_1_bn[0][0]']      \n",
      " n)                                                                                               \n",
      "                                                                                                  \n",
      " conv3_block2_2_conv (Conv2D)   (None, 28, 28, 128)  147584      ['conv3_block2_1_relu[0][0]']    \n",
      "                                                                                                  \n",
      " conv3_block2_2_bn (BatchNormal  (None, 28, 28, 128)  512        ['conv3_block2_2_conv[0][0]']    \n",
      " ization)                                                                                         \n",
      "                                                                                                  \n",
      " conv3_block2_2_relu (Activatio  (None, 28, 28, 128)  0          ['conv3_block2_2_bn[0][0]']      \n",
      " n)                                                                                               \n",
      "                                                                                                  \n",
      " conv3_block2_3_conv (Conv2D)   (None, 28, 28, 512)  66048       ['conv3_block2_2_relu[0][0]']    \n",
      "                                                                                                  \n",
      " conv3_block2_3_bn (BatchNormal  (None, 28, 28, 512)  2048       ['conv3_block2_3_conv[0][0]']    \n",
      " ization)                                                                                         \n",
      "                                                                                                  \n",
      " conv3_block2_add (Add)         (None, 28, 28, 512)  0           ['conv3_block1_out[0][0]',       \n",
      "                                                                  'conv3_block2_3_bn[0][0]']      \n",
      "                                                                                                  \n",
      " conv3_block2_out (Activation)  (None, 28, 28, 512)  0           ['conv3_block2_add[0][0]']       \n",
      "                                                                                                  \n",
      " conv3_block3_1_conv (Conv2D)   (None, 28, 28, 128)  65664       ['conv3_block2_out[0][0]']       \n"
     ]
    },
    {
     "name": "stdout",
     "output_type": "stream",
     "text": [
      "                                                                                                  \n",
      " conv3_block3_1_bn (BatchNormal  (None, 28, 28, 128)  512        ['conv3_block3_1_conv[0][0]']    \n",
      " ization)                                                                                         \n",
      "                                                                                                  \n",
      " conv3_block3_1_relu (Activatio  (None, 28, 28, 128)  0          ['conv3_block3_1_bn[0][0]']      \n",
      " n)                                                                                               \n",
      "                                                                                                  \n",
      " conv3_block3_2_conv (Conv2D)   (None, 28, 28, 128)  147584      ['conv3_block3_1_relu[0][0]']    \n",
      "                                                                                                  \n",
      " conv3_block3_2_bn (BatchNormal  (None, 28, 28, 128)  512        ['conv3_block3_2_conv[0][0]']    \n",
      " ization)                                                                                         \n",
      "                                                                                                  \n",
      " conv3_block3_2_relu (Activatio  (None, 28, 28, 128)  0          ['conv3_block3_2_bn[0][0]']      \n",
      " n)                                                                                               \n",
      "                                                                                                  \n",
      " conv3_block3_3_conv (Conv2D)   (None, 28, 28, 512)  66048       ['conv3_block3_2_relu[0][0]']    \n",
      "                                                                                                  \n",
      " conv3_block3_3_bn (BatchNormal  (None, 28, 28, 512)  2048       ['conv3_block3_3_conv[0][0]']    \n",
      " ization)                                                                                         \n",
      "                                                                                                  \n",
      " conv3_block3_add (Add)         (None, 28, 28, 512)  0           ['conv3_block2_out[0][0]',       \n",
      "                                                                  'conv3_block3_3_bn[0][0]']      \n",
      "                                                                                                  \n",
      " conv3_block3_out (Activation)  (None, 28, 28, 512)  0           ['conv3_block3_add[0][0]']       \n",
      "                                                                                                  \n",
      " conv3_block4_1_conv (Conv2D)   (None, 28, 28, 128)  65664       ['conv3_block3_out[0][0]']       \n",
      "                                                                                                  \n",
      " conv3_block4_1_bn (BatchNormal  (None, 28, 28, 128)  512        ['conv3_block4_1_conv[0][0]']    \n",
      " ization)                                                                                         \n",
      "                                                                                                  \n",
      " conv3_block4_1_relu (Activatio  (None, 28, 28, 128)  0          ['conv3_block4_1_bn[0][0]']      \n",
      " n)                                                                                               \n",
      "                                                                                                  \n",
      " conv3_block4_2_conv (Conv2D)   (None, 28, 28, 128)  147584      ['conv3_block4_1_relu[0][0]']    \n",
      "                                                                                                  \n",
      " conv3_block4_2_bn (BatchNormal  (None, 28, 28, 128)  512        ['conv3_block4_2_conv[0][0]']    \n",
      " ization)                                                                                         \n",
      "                                                                                                  \n",
      " conv3_block4_2_relu (Activatio  (None, 28, 28, 128)  0          ['conv3_block4_2_bn[0][0]']      \n",
      " n)                                                                                               \n",
      "                                                                                                  \n",
      " conv3_block4_3_conv (Conv2D)   (None, 28, 28, 512)  66048       ['conv3_block4_2_relu[0][0]']    \n",
      "                                                                                                  \n",
      " conv3_block4_3_bn (BatchNormal  (None, 28, 28, 512)  2048       ['conv3_block4_3_conv[0][0]']    \n",
      " ization)                                                                                         \n",
      "                                                                                                  \n",
      " conv3_block4_add (Add)         (None, 28, 28, 512)  0           ['conv3_block3_out[0][0]',       \n",
      "                                                                  'conv3_block4_3_bn[0][0]']      \n",
      "                                                                                                  \n",
      " conv3_block4_out (Activation)  (None, 28, 28, 512)  0           ['conv3_block4_add[0][0]']       \n",
      "                                                                                                  \n",
      " conv4_block1_1_conv (Conv2D)   (None, 14, 14, 256)  131328      ['conv3_block4_out[0][0]']       \n",
      "                                                                                                  \n",
      " conv4_block1_1_bn (BatchNormal  (None, 14, 14, 256)  1024       ['conv4_block1_1_conv[0][0]']    \n",
      " ization)                                                                                         \n",
      "                                                                                                  \n",
      " conv4_block1_1_relu (Activatio  (None, 14, 14, 256)  0          ['conv4_block1_1_bn[0][0]']      \n",
      " n)                                                                                               \n",
      "                                                                                                  \n",
      " conv4_block1_2_conv (Conv2D)   (None, 14, 14, 256)  590080      ['conv4_block1_1_relu[0][0]']    \n",
      "                                                                                                  \n",
      " conv4_block1_2_bn (BatchNormal  (None, 14, 14, 256)  1024       ['conv4_block1_2_conv[0][0]']    \n",
      " ization)                                                                                         \n",
      "                                                                                                  \n",
      " conv4_block1_2_relu (Activatio  (None, 14, 14, 256)  0          ['conv4_block1_2_bn[0][0]']      \n",
      " n)                                                                                               \n",
      "                                                                                                  \n",
      " conv4_block1_0_conv (Conv2D)   (None, 14, 14, 1024  525312      ['conv3_block4_out[0][0]']       \n",
      "                                )                                                                 \n",
      "                                                                                                  \n",
      " conv4_block1_3_conv (Conv2D)   (None, 14, 14, 1024  263168      ['conv4_block1_2_relu[0][0]']    \n",
      "                                )                                                                 \n",
      "                                                                                                  \n",
      " conv4_block1_0_bn (BatchNormal  (None, 14, 14, 1024  4096       ['conv4_block1_0_conv[0][0]']    \n",
      " ization)                       )                                                                 \n",
      "                                                                                                  \n",
      " conv4_block1_3_bn (BatchNormal  (None, 14, 14, 1024  4096       ['conv4_block1_3_conv[0][0]']    \n",
      " ization)                       )                                                                 \n",
      "                                                                                                  \n",
      " conv4_block1_add (Add)         (None, 14, 14, 1024  0           ['conv4_block1_0_bn[0][0]',      \n",
      "                                )                                 'conv4_block1_3_bn[0][0]']      \n",
      "                                                                                                  \n",
      " conv4_block1_out (Activation)  (None, 14, 14, 1024  0           ['conv4_block1_add[0][0]']       \n"
     ]
    },
    {
     "name": "stdout",
     "output_type": "stream",
     "text": [
      "                                )                                                                 \n",
      "                                                                                                  \n",
      " conv4_block2_1_conv (Conv2D)   (None, 14, 14, 256)  262400      ['conv4_block1_out[0][0]']       \n",
      "                                                                                                  \n",
      " conv4_block2_1_bn (BatchNormal  (None, 14, 14, 256)  1024       ['conv4_block2_1_conv[0][0]']    \n",
      " ization)                                                                                         \n",
      "                                                                                                  \n",
      " conv4_block2_1_relu (Activatio  (None, 14, 14, 256)  0          ['conv4_block2_1_bn[0][0]']      \n",
      " n)                                                                                               \n",
      "                                                                                                  \n",
      " conv4_block2_2_conv (Conv2D)   (None, 14, 14, 256)  590080      ['conv4_block2_1_relu[0][0]']    \n",
      "                                                                                                  \n",
      " conv4_block2_2_bn (BatchNormal  (None, 14, 14, 256)  1024       ['conv4_block2_2_conv[0][0]']    \n",
      " ization)                                                                                         \n",
      "                                                                                                  \n",
      " conv4_block2_2_relu (Activatio  (None, 14, 14, 256)  0          ['conv4_block2_2_bn[0][0]']      \n",
      " n)                                                                                               \n",
      "                                                                                                  \n",
      " conv4_block2_3_conv (Conv2D)   (None, 14, 14, 1024  263168      ['conv4_block2_2_relu[0][0]']    \n",
      "                                )                                                                 \n",
      "                                                                                                  \n",
      " conv4_block2_3_bn (BatchNormal  (None, 14, 14, 1024  4096       ['conv4_block2_3_conv[0][0]']    \n",
      " ization)                       )                                                                 \n",
      "                                                                                                  \n",
      " conv4_block2_add (Add)         (None, 14, 14, 1024  0           ['conv4_block1_out[0][0]',       \n",
      "                                )                                 'conv4_block2_3_bn[0][0]']      \n",
      "                                                                                                  \n",
      " conv4_block2_out (Activation)  (None, 14, 14, 1024  0           ['conv4_block2_add[0][0]']       \n",
      "                                )                                                                 \n",
      "                                                                                                  \n",
      " conv4_block3_1_conv (Conv2D)   (None, 14, 14, 256)  262400      ['conv4_block2_out[0][0]']       \n",
      "                                                                                                  \n",
      " conv4_block3_1_bn (BatchNormal  (None, 14, 14, 256)  1024       ['conv4_block3_1_conv[0][0]']    \n",
      " ization)                                                                                         \n",
      "                                                                                                  \n",
      " conv4_block3_1_relu (Activatio  (None, 14, 14, 256)  0          ['conv4_block3_1_bn[0][0]']      \n",
      " n)                                                                                               \n",
      "                                                                                                  \n",
      " conv4_block3_2_conv (Conv2D)   (None, 14, 14, 256)  590080      ['conv4_block3_1_relu[0][0]']    \n",
      "                                                                                                  \n",
      " conv4_block3_2_bn (BatchNormal  (None, 14, 14, 256)  1024       ['conv4_block3_2_conv[0][0]']    \n",
      " ization)                                                                                         \n",
      "                                                                                                  \n",
      " conv4_block3_2_relu (Activatio  (None, 14, 14, 256)  0          ['conv4_block3_2_bn[0][0]']      \n",
      " n)                                                                                               \n",
      "                                                                                                  \n",
      " conv4_block3_3_conv (Conv2D)   (None, 14, 14, 1024  263168      ['conv4_block3_2_relu[0][0]']    \n",
      "                                )                                                                 \n",
      "                                                                                                  \n",
      " conv4_block3_3_bn (BatchNormal  (None, 14, 14, 1024  4096       ['conv4_block3_3_conv[0][0]']    \n",
      " ization)                       )                                                                 \n",
      "                                                                                                  \n",
      " conv4_block3_add (Add)         (None, 14, 14, 1024  0           ['conv4_block2_out[0][0]',       \n",
      "                                )                                 'conv4_block3_3_bn[0][0]']      \n",
      "                                                                                                  \n",
      " conv4_block3_out (Activation)  (None, 14, 14, 1024  0           ['conv4_block3_add[0][0]']       \n",
      "                                )                                                                 \n",
      "                                                                                                  \n",
      " conv4_block4_1_conv (Conv2D)   (None, 14, 14, 256)  262400      ['conv4_block3_out[0][0]']       \n",
      "                                                                                                  \n",
      " conv4_block4_1_bn (BatchNormal  (None, 14, 14, 256)  1024       ['conv4_block4_1_conv[0][0]']    \n",
      " ization)                                                                                         \n",
      "                                                                                                  \n",
      " conv4_block4_1_relu (Activatio  (None, 14, 14, 256)  0          ['conv4_block4_1_bn[0][0]']      \n",
      " n)                                                                                               \n",
      "                                                                                                  \n",
      " conv4_block4_2_conv (Conv2D)   (None, 14, 14, 256)  590080      ['conv4_block4_1_relu[0][0]']    \n",
      "                                                                                                  \n",
      " conv4_block4_2_bn (BatchNormal  (None, 14, 14, 256)  1024       ['conv4_block4_2_conv[0][0]']    \n",
      " ization)                                                                                         \n",
      "                                                                                                  \n",
      " conv4_block4_2_relu (Activatio  (None, 14, 14, 256)  0          ['conv4_block4_2_bn[0][0]']      \n",
      " n)                                                                                               \n",
      "                                                                                                  \n",
      " conv4_block4_3_conv (Conv2D)   (None, 14, 14, 1024  263168      ['conv4_block4_2_relu[0][0]']    \n",
      "                                )                                                                 \n",
      "                                                                                                  \n",
      " conv4_block4_3_bn (BatchNormal  (None, 14, 14, 1024  4096       ['conv4_block4_3_conv[0][0]']    \n",
      " ization)                       )                                                                 \n",
      "                                                                                                  \n",
      " conv4_block4_add (Add)         (None, 14, 14, 1024  0           ['conv4_block3_out[0][0]',       \n",
      "                                )                                 'conv4_block4_3_bn[0][0]']      \n",
      "                                                                                                  \n"
     ]
    },
    {
     "name": "stdout",
     "output_type": "stream",
     "text": [
      " conv4_block4_out (Activation)  (None, 14, 14, 1024  0           ['conv4_block4_add[0][0]']       \n",
      "                                )                                                                 \n",
      "                                                                                                  \n",
      " conv4_block5_1_conv (Conv2D)   (None, 14, 14, 256)  262400      ['conv4_block4_out[0][0]']       \n",
      "                                                                                                  \n",
      " conv4_block5_1_bn (BatchNormal  (None, 14, 14, 256)  1024       ['conv4_block5_1_conv[0][0]']    \n",
      " ization)                                                                                         \n",
      "                                                                                                  \n",
      " conv4_block5_1_relu (Activatio  (None, 14, 14, 256)  0          ['conv4_block5_1_bn[0][0]']      \n",
      " n)                                                                                               \n",
      "                                                                                                  \n",
      " conv4_block5_2_conv (Conv2D)   (None, 14, 14, 256)  590080      ['conv4_block5_1_relu[0][0]']    \n",
      "                                                                                                  \n",
      " conv4_block5_2_bn (BatchNormal  (None, 14, 14, 256)  1024       ['conv4_block5_2_conv[0][0]']    \n",
      " ization)                                                                                         \n",
      "                                                                                                  \n",
      " conv4_block5_2_relu (Activatio  (None, 14, 14, 256)  0          ['conv4_block5_2_bn[0][0]']      \n",
      " n)                                                                                               \n",
      "                                                                                                  \n",
      " conv4_block5_3_conv (Conv2D)   (None, 14, 14, 1024  263168      ['conv4_block5_2_relu[0][0]']    \n",
      "                                )                                                                 \n",
      "                                                                                                  \n",
      " conv4_block5_3_bn (BatchNormal  (None, 14, 14, 1024  4096       ['conv4_block5_3_conv[0][0]']    \n",
      " ization)                       )                                                                 \n",
      "                                                                                                  \n",
      " conv4_block5_add (Add)         (None, 14, 14, 1024  0           ['conv4_block4_out[0][0]',       \n",
      "                                )                                 'conv4_block5_3_bn[0][0]']      \n",
      "                                                                                                  \n",
      " conv4_block5_out (Activation)  (None, 14, 14, 1024  0           ['conv4_block5_add[0][0]']       \n",
      "                                )                                                                 \n",
      "                                                                                                  \n",
      " conv4_block6_1_conv (Conv2D)   (None, 14, 14, 256)  262400      ['conv4_block5_out[0][0]']       \n",
      "                                                                                                  \n",
      " conv4_block6_1_bn (BatchNormal  (None, 14, 14, 256)  1024       ['conv4_block6_1_conv[0][0]']    \n",
      " ization)                                                                                         \n",
      "                                                                                                  \n",
      " conv4_block6_1_relu (Activatio  (None, 14, 14, 256)  0          ['conv4_block6_1_bn[0][0]']      \n",
      " n)                                                                                               \n",
      "                                                                                                  \n",
      " conv4_block6_2_conv (Conv2D)   (None, 14, 14, 256)  590080      ['conv4_block6_1_relu[0][0]']    \n",
      "                                                                                                  \n",
      " conv4_block6_2_bn (BatchNormal  (None, 14, 14, 256)  1024       ['conv4_block6_2_conv[0][0]']    \n",
      " ization)                                                                                         \n",
      "                                                                                                  \n",
      " conv4_block6_2_relu (Activatio  (None, 14, 14, 256)  0          ['conv4_block6_2_bn[0][0]']      \n",
      " n)                                                                                               \n",
      "                                                                                                  \n",
      " conv4_block6_3_conv (Conv2D)   (None, 14, 14, 1024  263168      ['conv4_block6_2_relu[0][0]']    \n",
      "                                )                                                                 \n",
      "                                                                                                  \n",
      " conv4_block6_3_bn (BatchNormal  (None, 14, 14, 1024  4096       ['conv4_block6_3_conv[0][0]']    \n",
      " ization)                       )                                                                 \n",
      "                                                                                                  \n",
      " conv4_block6_add (Add)         (None, 14, 14, 1024  0           ['conv4_block5_out[0][0]',       \n",
      "                                )                                 'conv4_block6_3_bn[0][0]']      \n",
      "                                                                                                  \n",
      " conv4_block6_out (Activation)  (None, 14, 14, 1024  0           ['conv4_block6_add[0][0]']       \n",
      "                                )                                                                 \n",
      "                                                                                                  \n",
      " conv5_block1_1_conv (Conv2D)   (None, 7, 7, 512)    524800      ['conv4_block6_out[0][0]']       \n",
      "                                                                                                  \n",
      " conv5_block1_1_bn (BatchNormal  (None, 7, 7, 512)   2048        ['conv5_block1_1_conv[0][0]']    \n",
      " ization)                                                                                         \n",
      "                                                                                                  \n",
      " conv5_block1_1_relu (Activatio  (None, 7, 7, 512)   0           ['conv5_block1_1_bn[0][0]']      \n",
      " n)                                                                                               \n",
      "                                                                                                  \n",
      " conv5_block1_2_conv (Conv2D)   (None, 7, 7, 512)    2359808     ['conv5_block1_1_relu[0][0]']    \n",
      "                                                                                                  \n",
      " conv5_block1_2_bn (BatchNormal  (None, 7, 7, 512)   2048        ['conv5_block1_2_conv[0][0]']    \n",
      " ization)                                                                                         \n",
      "                                                                                                  \n",
      " conv5_block1_2_relu (Activatio  (None, 7, 7, 512)   0           ['conv5_block1_2_bn[0][0]']      \n",
      " n)                                                                                               \n",
      "                                                                                                  \n",
      " conv5_block1_0_conv (Conv2D)   (None, 7, 7, 2048)   2099200     ['conv4_block6_out[0][0]']       \n",
      "                                                                                                  \n",
      " conv5_block1_3_conv (Conv2D)   (None, 7, 7, 2048)   1050624     ['conv5_block1_2_relu[0][0]']    \n",
      "                                                                                                  \n",
      " conv5_block1_0_bn (BatchNormal  (None, 7, 7, 2048)  8192        ['conv5_block1_0_conv[0][0]']    \n",
      " ization)                                                                                         \n",
      "                                                                                                  \n",
      " conv5_block1_3_bn (BatchNormal  (None, 7, 7, 2048)  8192        ['conv5_block1_3_conv[0][0]']    \n"
     ]
    },
    {
     "name": "stdout",
     "output_type": "stream",
     "text": [
      " ization)                                                                                         \n",
      "                                                                                                  \n",
      " conv5_block1_add (Add)         (None, 7, 7, 2048)   0           ['conv5_block1_0_bn[0][0]',      \n",
      "                                                                  'conv5_block1_3_bn[0][0]']      \n",
      "                                                                                                  \n",
      " conv5_block1_out (Activation)  (None, 7, 7, 2048)   0           ['conv5_block1_add[0][0]']       \n",
      "                                                                                                  \n",
      " conv5_block2_1_conv (Conv2D)   (None, 7, 7, 512)    1049088     ['conv5_block1_out[0][0]']       \n",
      "                                                                                                  \n",
      " conv5_block2_1_bn (BatchNormal  (None, 7, 7, 512)   2048        ['conv5_block2_1_conv[0][0]']    \n",
      " ization)                                                                                         \n",
      "                                                                                                  \n",
      " conv5_block2_1_relu (Activatio  (None, 7, 7, 512)   0           ['conv5_block2_1_bn[0][0]']      \n",
      " n)                                                                                               \n",
      "                                                                                                  \n",
      " conv5_block2_2_conv (Conv2D)   (None, 7, 7, 512)    2359808     ['conv5_block2_1_relu[0][0]']    \n",
      "                                                                                                  \n",
      " conv5_block2_2_bn (BatchNormal  (None, 7, 7, 512)   2048        ['conv5_block2_2_conv[0][0]']    \n",
      " ization)                                                                                         \n",
      "                                                                                                  \n",
      " conv5_block2_2_relu (Activatio  (None, 7, 7, 512)   0           ['conv5_block2_2_bn[0][0]']      \n",
      " n)                                                                                               \n",
      "                                                                                                  \n",
      " conv5_block2_3_conv (Conv2D)   (None, 7, 7, 2048)   1050624     ['conv5_block2_2_relu[0][0]']    \n",
      "                                                                                                  \n",
      " conv5_block2_3_bn (BatchNormal  (None, 7, 7, 2048)  8192        ['conv5_block2_3_conv[0][0]']    \n",
      " ization)                                                                                         \n",
      "                                                                                                  \n",
      " conv5_block2_add (Add)         (None, 7, 7, 2048)   0           ['conv5_block1_out[0][0]',       \n",
      "                                                                  'conv5_block2_3_bn[0][0]']      \n",
      "                                                                                                  \n",
      " conv5_block2_out (Activation)  (None, 7, 7, 2048)   0           ['conv5_block2_add[0][0]']       \n",
      "                                                                                                  \n",
      " conv5_block3_1_conv (Conv2D)   (None, 7, 7, 512)    1049088     ['conv5_block2_out[0][0]']       \n",
      "                                                                                                  \n",
      " conv5_block3_1_bn (BatchNormal  (None, 7, 7, 512)   2048        ['conv5_block3_1_conv[0][0]']    \n",
      " ization)                                                                                         \n",
      "                                                                                                  \n",
      " conv5_block3_1_relu (Activatio  (None, 7, 7, 512)   0           ['conv5_block3_1_bn[0][0]']      \n",
      " n)                                                                                               \n",
      "                                                                                                  \n",
      " conv5_block3_2_conv (Conv2D)   (None, 7, 7, 512)    2359808     ['conv5_block3_1_relu[0][0]']    \n",
      "                                                                                                  \n",
      " conv5_block3_2_bn (BatchNormal  (None, 7, 7, 512)   2048        ['conv5_block3_2_conv[0][0]']    \n",
      " ization)                                                                                         \n",
      "                                                                                                  \n",
      " conv5_block3_2_relu (Activatio  (None, 7, 7, 512)   0           ['conv5_block3_2_bn[0][0]']      \n",
      " n)                                                                                               \n",
      "                                                                                                  \n",
      " conv5_block3_3_conv (Conv2D)   (None, 7, 7, 2048)   1050624     ['conv5_block3_2_relu[0][0]']    \n",
      "                                                                                                  \n",
      " conv5_block3_3_bn (BatchNormal  (None, 7, 7, 2048)  8192        ['conv5_block3_3_conv[0][0]']    \n",
      " ization)                                                                                         \n",
      "                                                                                                  \n",
      " conv5_block3_add (Add)         (None, 7, 7, 2048)   0           ['conv5_block2_out[0][0]',       \n",
      "                                                                  'conv5_block3_3_bn[0][0]']      \n",
      "                                                                                                  \n",
      " conv5_block3_out (Activation)  (None, 7, 7, 2048)   0           ['conv5_block3_add[0][0]']       \n",
      "                                                                                                  \n",
      " global_average_pooling2d (Glob  (None, 2048)        0           ['conv5_block3_out[0][0]']       \n",
      " alAveragePooling2D)                                                                              \n",
      "                                                                                                  \n",
      " batch_normalization (BatchNorm  (None, 2048)        8192        ['global_average_pooling2d[0][0]'\n",
      " alization)                                                      ]                                \n",
      "                                                                                                  \n",
      " dropout (Dropout)              (None, 2048)         0           ['batch_normalization[0][0]']    \n",
      "                                                                                                  \n",
      " dense_3 (Dense)                (None, 3072)         6294528     ['dropout[0][0]']                \n",
      "                                                                                                  \n",
      " batch_normalization_1 (BatchNo  (None, 3072)        12288       ['dense_3[0][0]']                \n",
      " rmalization)                                                                                     \n",
      "                                                                                                  \n",
      " dropout_1 (Dropout)            (None, 3072)         0           ['batch_normalization_1[0][0]']  \n",
      "                                                                                                  \n",
      " dense_4 (Dense)                (None, 512)          1573376     ['dropout_1[0][0]']              \n",
      "                                                                                                  \n",
      " batch_normalization_2 (BatchNo  (None, 512)         2048        ['dense_4[0][0]']                \n",
      " rmalization)                                                                                     \n",
      "                                                                                                  \n",
      " dropout_2 (Dropout)            (None, 512)          0           ['batch_normalization_2[0][0]']  \n",
      "                                                                                                  \n",
      " dense_5 (Dense)                (None, 2)            1026        ['dropout_2[0][0]']              \n",
      "                                                                                                  \n"
     ]
    },
    {
     "name": "stdout",
     "output_type": "stream",
     "text": [
      "==================================================================================================\n",
      "Total params: 31,479,170\n",
      "Trainable params: 7,880,194\n",
      "Non-trainable params: 23,598,976\n",
      "__________________________________________________________________________________________________\n"
     ]
    }
   ],
   "source": [
    "Resnet_model = resnet_model((224, 224, 3))\n",
    "Resnet_model.compile(optimizer=tf.keras.optimizers.Adam(learning_rate=lr),\n",
    "                     loss='binary_crossentropy',\n",
    "                     metrics=['accuracy', tfa.metrics.F1Score(num_classes=2, threshold=0.5), tf.keras.metrics.Precision(), tf.keras.metrics.Recall()])\n",
    "Resnet_model.summary()"
   ]
  },
  {
   "cell_type": "code",
   "execution_count": null,
   "id": "37cc9f04",
   "metadata": {},
   "outputs": [
    {
     "name": "stdout",
     "output_type": "stream",
     "text": [
      "Epoch 1/10\n",
      "280/280 [==============================] - ETA: 0s - loss: 1.4412 - accuracy: 0.6577 - f1_score: 0.6359 - precision_1: 0.6577 - recall_1: 0.6577\n",
      "Epoch 1: saving model to training/conv\\ResnetImgnet_cp.ckpt\n",
      "INFO:tensorflow:Assets written to: training/conv\\ResnetImgnet_cp.ckpt\\assets\n"
     ]
    },
    {
     "name": "stderr",
     "output_type": "stream",
     "text": [
      "INFO:tensorflow:Assets written to: training/conv\\ResnetImgnet_cp.ckpt\\assets\n"
     ]
    },
    {
     "name": "stdout",
     "output_type": "stream",
     "text": [
      "280/280 [==============================] - 978s 3s/step - loss: 1.4412 - accuracy: 0.6577 - f1_score: 0.6359 - precision_1: 0.6577 - recall_1: 0.6577 - val_loss: 1.1391 - val_accuracy: 0.8548 - val_f1_score: 0.8345 - val_precision_1: 0.8548 - val_recall_1: 0.8548\n",
      "Epoch 2/10\n",
      "280/280 [==============================] - ETA: 0s - loss: 1.2080 - accuracy: 0.7942 - f1_score: 0.7751 - precision_1: 0.7942 - recall_1: 0.7942\n",
      "Epoch 2: saving model to training/conv\\ResnetImgnet_cp.ckpt\n",
      "INFO:tensorflow:Assets written to: training/conv\\ResnetImgnet_cp.ckpt\\assets\n"
     ]
    },
    {
     "name": "stderr",
     "output_type": "stream",
     "text": [
      "INFO:tensorflow:Assets written to: training/conv\\ResnetImgnet_cp.ckpt\\assets\n"
     ]
    },
    {
     "name": "stdout",
     "output_type": "stream",
     "text": [
      "280/280 [==============================] - 1246s 4s/step - loss: 1.2080 - accuracy: 0.7942 - f1_score: 0.7751 - precision_1: 0.7942 - recall_1: 0.7942 - val_loss: 1.0056 - val_accuracy: 0.8992 - val_f1_score: 0.8821 - val_precision_1: 0.8992 - val_recall_1: 0.8992\n",
      "Epoch 3/10\n",
      " 83/280 [=======>......................] - ETA: 10:55 - loss: 1.1421 - accuracy: 0.8294 - f1_score: 0.8104 - precision_1: 0.8294 - recall_1: 0.8294"
     ]
    }
   ],
   "source": [
    "historyRI = Resnet_model.fit(train_ds, epochs=10, validation_data=val_ds, callbacks=[cp_callback, estop])\n",
    "\n",
    "Resnet_model.save('ResNet_model.h5')"
   ]
  },
  {
   "cell_type": "code",
   "execution_count": null,
   "id": "1e268dd3",
   "metadata": {},
   "outputs": [],
   "source": [
    "l = historyRI.history.keys()\n",
    "print(l, len(l), type(l))\n",
    "metrics = list(historyRI.history.keys())\n",
    "\n",
    "df = pd.DataFrame(historyRI.history)"
   ]
  },
  {
   "cell_type": "code",
   "execution_count": null,
   "id": "491e15af",
   "metadata": {},
   "outputs": [],
   "source": [
    "def f1_mod(x):\n",
    "    return x[0]\n",
    "\n",
    "def per_cent(x):\n",
    "    return x*100\n",
    "    \n",
    "df['f1_score'] = df['f1_score'].apply(f1_mod)\n",
    "df['val_f1_score'] = df['val_f1_score'].apply(f1_mod)\n",
    "\n",
    "for i in df.columns:\n",
    "    df[i] = df[i].apply(per_cent)\n",
    "\n",
    "df.head()"
   ]
  },
  {
   "cell_type": "code",
   "execution_count": null,
   "id": "b6a70608",
   "metadata": {},
   "outputs": [],
   "source": [
    "for i in range(len(l)//2):\n",
    "    tr = metrics[i]\n",
    "    val = \"val_\" + tr\n",
    "    df_pl= df[[tr,val]]\n",
    "    df_pl.rename(columns={tr:'train',val:'validation'},inplace=True)\n",
    "    df_pl.plot(title='Model '+tr,figsize=(12,8)).set(xlabel='Epoch',ylabel=tr)"
   ]
  },
  {
   "cell_type": "code",
   "execution_count": null,
   "id": "a4652e7f",
   "metadata": {},
   "outputs": [],
   "source": [
    "def vgg_model(input_shape, weights='imagenet',transfer=True):\n",
    "    \n",
    "    input_img = tf.keras.Input(shape=input_shape)\n",
    "    \n",
    "    base = tf.keras.applications.VGG16(input_shape = input_shape, weights = weights,\n",
    "                                       include_top = False, input_tensor = input_img)\n",
    "    base.trainable = not(transfer)\n",
    "    \n",
    "    A0 = base.output\n",
    "    \n",
    "    A1 = layer.GlobalAveragePooling2D( )(A0)\n",
    "    N1 = layer.BatchNormalization()(A1)\n",
    "    N1 = layer.Dropout(0.1)(N1)\n",
    "    \n",
    "    A2 = layer.Dense(kernel_regularizer=tf.keras.regularizers.L2(0.0002),\n",
    "                     units = 256, activation = 'ReLU')(N1)\n",
    "    N2 = layer.BatchNormalization()(A2)\n",
    "    N2 = layer.Dropout(0.2)(N2)\n",
    "    \n",
    "    A3 = layer.Dense(kernel_regularizer=tf.keras.regularizers.L2(0.0002),\n",
    "                     units = 128, activation = 'ReLU')(A2)\n",
    "    N3 = layer.BatchNormalization()(A3)\n",
    "    N3 = layer.Dropout(0.4)(N3)\n",
    "    \n",
    "    outputs = layer.Dense(units = 2, activation = \"softmax\")(N3)\n",
    "    \n",
    "    model = tf.keras.Model(inputs = input_img, outputs = outputs)\n",
    "    \n",
    "    return model"
   ]
  },
  {
   "cell_type": "code",
   "execution_count": null,
   "id": "7be60c91",
   "metadata": {},
   "outputs": [],
   "source": [
    "vggnet_I = vgg_model(input_shape=(224,224,3), weights='imagenet',transfer=True)\n",
    "\n",
    "vggnet_I.compile(optimizer=tf.keras.optimizers.Adam(learning_rate=lr),\n",
    "                 loss='binary_crossentropy',\n",
    "                 metrics=['accuracy', tfa.metrics.F1Score(num_classes=2, threshold=0.5), tf.keras.metrics.Precision(), tf.keras.metrics.Recall()])\n",
    "vggnet_I.summary()"
   ]
  },
  {
   "cell_type": "code",
   "execution_count": null,
   "id": "8a46287f",
   "metadata": {},
   "outputs": [],
   "source": [
    "checkpoint_path = 'training/conv/VGG16Imgnet_cp.ckpt'\n",
    "checkpoint_dir = os.path.dirname(checkpoint_path)\n",
    "\n",
    "cp_callback = tf.keras.callbacks.ModelCheckpoint(checkpoint_path,\n",
    "                                                save_weights_only=False,\n",
    "                                                save_freq ='epoch',\n",
    "                                                verbose=1)\n",
    "\n",
    "estop = tf.keras.callbacks.EarlyStopping(monitor=\"val_loss\",\n",
    "                                         min_delta=0.0001,\n",
    "                                         patience=5,\n",
    "                                         mode=\"min\",\n",
    "                                         restore_best_weights=True)"
   ]
  },
  {
   "cell_type": "code",
   "execution_count": null,
   "id": "3de8a5c1",
   "metadata": {},
   "outputs": [],
   "source": [
    "historyVI = vggnet_I.fit(train_ds, \n",
    "                          epochs=10, \n",
    "                          validation_data=val_ds, \n",
    "                          callbacks = [cp_callback, estop])\n",
    "vggnet_I.save('VGG16_model.h5')"
   ]
  },
  {
   "cell_type": "code",
   "execution_count": null,
   "id": "cfa7ef96",
   "metadata": {},
   "outputs": [],
   "source": [
    "l = historyVI.history.keys()\n",
    "print(l, len(l), type(l))\n",
    "metrics = list(historyVI.history.keys())\n",
    "\n",
    "df = pd.DataFrame(historyVI.history)"
   ]
  },
  {
   "cell_type": "code",
   "execution_count": null,
   "id": "50497341",
   "metadata": {},
   "outputs": [],
   "source": [
    "def f1_mod(x):\n",
    "    return x[0]\n",
    "\n",
    "def per_cent(x):\n",
    "    return x*100\n",
    "    \n",
    "df['f1_score'] = df['f1_score'].apply(f1_mod)\n",
    "df['val_f1_score'] = df['val_f1_score'].apply(f1_mod)\n",
    "\n",
    "for i in df.columns:\n",
    "    df[i] = df[i].apply(per_cent)\n",
    "\n",
    "\n",
    "df.head()"
   ]
  },
  {
   "cell_type": "code",
   "execution_count": null,
   "id": "1c2d05c2",
   "metadata": {},
   "outputs": [],
   "source": [
    "for i in range(len(l)//2):\n",
    "    tr = metrics[i]\n",
    "    val = \"val_\" + tr\n",
    "    df_pl= df[[tr,val]]\n",
    "    df_pl.rename(columns={tr:'train',val:'validation'},inplace=True)\n",
    "    df_pl.plot(title='Model '+tr,figsize=(12,8)).set(xlabel='Epoch',ylabel=tr)"
   ]
  },
  {
   "cell_type": "code",
   "execution_count": null,
   "id": "a5572b1e",
   "metadata": {},
   "outputs": [],
   "source": [
    "from keras.models import Model\n",
    "from keras.layers import Input, Conv2D, MaxPooling2D, AveragePooling2D, Flatten, GlobalAveragePooling2D, Dense, Dropout\n",
    "from keras.layers.merge import concatenate"
   ]
  },
  {
   "cell_type": "code",
   "execution_count": null,
   "id": "097cdc52",
   "metadata": {},
   "outputs": [],
   "source": [
    "def Inception_block(input_layer, f1, f2_conv1, f2_conv3, f3_conv1, f3_conv5, f4): \n",
    "  # Input: \n",
    "  # - f1: number of filters of the 1x1 convolutional layer in the first path\n",
    "  # - f2_conv1, f2_conv3 are number of filters corresponding to the 1x1 and 3x3 convolutional layers in the second path\n",
    "  # - f3_conv1, f3_conv5 are the number of filters corresponding to the 1x1 and 5x5  convolutional layer in the third path\n",
    "  # - f4: number of filters of the 1x1 convolutional layer in the fourth path\n",
    "\n",
    "  # 1st path:\n",
    "  path1 = Conv2D(filters=f1, kernel_size = (1,1), padding = 'same', activation = 'relu')(input_layer)\n",
    "\n",
    "  # 2nd path\n",
    "  path2 = Conv2D(filters = f2_conv1, kernel_size = (1,1), padding = 'same', activation = 'relu')(input_layer)\n",
    "  path2 = Conv2D(filters = f2_conv3, kernel_size = (3,3), padding = 'same', activation = 'relu')(path2)\n",
    "\n",
    "  # 3rd path\n",
    "  path3 = Conv2D(filters = f3_conv1, kernel_size = (1,1), padding = 'same', activation = 'relu')(input_layer)\n",
    "  path3 = Conv2D(filters = f3_conv5, kernel_size = (5,5), padding = 'same', activation = 'relu')(path3)\n",
    "\n",
    "  # 4th path\n",
    "  path4 = MaxPooling2D((3,3), strides= (1,1), padding = 'same')(input_layer)\n",
    "  path4 = Conv2D(filters = f4, kernel_size = (1,1), padding = 'same', activation = 'relu')(path4)\n",
    "\n",
    "  output_layer = concatenate([path1, path2, path3, path4], axis = -1)\n",
    "\n",
    "  return output_layer"
   ]
  },
  {
   "cell_type": "code",
   "execution_count": null,
   "id": "04b81f46",
   "metadata": {},
   "outputs": [],
   "source": [
    "def GoogLeNet():\n",
    "  # input layer \n",
    "  input_layer = Input(shape = (224, 224, 3))\n",
    "  \n",
    "  # convolutional layer: filters = 64, kernel_size = (7,7), strides = 2\n",
    "  X = Conv2D(filters = 64, kernel_size = (7,7), strides = 2, padding = 'valid', activation = 'relu')(input_layer)\n",
    "\n",
    "  # max-pooling layer: pool_size = (3,3), strides = 2\n",
    "  X = MaxPooling2D(pool_size = (3,3), strides = 2)(X)\n",
    "\n",
    "  # convolutional layer: filters = 64, strides = 1\n",
    "  X = Conv2D(filters = 64, kernel_size = (1,1), strides = 1, padding = 'same', activation = 'relu')(X)\n",
    "\n",
    "  # convolutional layer: filters = 192, kernel_size = (3,3)\n",
    "  X = Conv2D(filters = 192, kernel_size = (3,3), padding = 'same', activation = 'relu')(X)\n",
    "\n",
    "  # max-pooling layer: pool_size = (3,3), strides = 2\n",
    "  X = MaxPooling2D(pool_size= (3,3), strides = 2)(X)\n",
    "\n",
    "  # 1st Inception block\n",
    "  X = Inception_block(X, f1 = 64, f2_conv1 = 96, f2_conv3 = 128, f3_conv1 = 16, f3_conv5 = 32, f4 = 32)\n",
    "\n",
    "  # 2nd Inception block\n",
    "  X = Inception_block(X, f1 = 128, f2_conv1 = 128, f2_conv3 = 192, f3_conv1 = 32, f3_conv5 = 96, f4 = 64)\n",
    "\n",
    "  # max-pooling layer: pool_size = (3,3), strides = 2\n",
    "  X = MaxPooling2D(pool_size= (3,3), strides = 2)(X)\n",
    "\n",
    "  # 3rd Inception block\n",
    "  X = Inception_block(X, f1 = 192, f2_conv1 = 96, f2_conv3 = 208, f3_conv1 = 16, f3_conv5 = 48, f4 = 64)\n",
    "\n",
    "  # Extra network 1:\n",
    "  X1 = AveragePooling2D(pool_size = (5,5), strides = 3)(X)\n",
    "  X1 = Conv2D(filters = 128, kernel_size = (1,1), padding = 'same', activation = 'relu')(X1)\n",
    "  X1 = Flatten()(X1)\n",
    "  X1 = Dense(1024, activation = 'relu')(X1)\n",
    "  X1 = Dropout(0.7)(X1)\n",
    "  X1 = Dense(5, activation = 'softmax')(X1)\n",
    "\n",
    "  \n",
    "  # 4th Inception block\n",
    "  X = Inception_block(X, f1 = 160, f2_conv1 = 112, f2_conv3 = 224, f3_conv1 = 24, f3_conv5 = 64, f4 = 64)\n",
    "\n",
    "  # 5th Inception block\n",
    "  X = Inception_block(X, f1 = 128, f2_conv1 = 128, f2_conv3 = 256, f3_conv1 = 24, f3_conv5 = 64, f4 = 64)\n",
    "\n",
    "  # 6th Inception block\n",
    "  X = Inception_block(X, f1 = 112, f2_conv1 = 144, f2_conv3 = 288, f3_conv1 = 32, f3_conv5 = 64, f4 = 64)\n",
    "\n",
    "  # Extra network 2:\n",
    "  X2 = AveragePooling2D(pool_size = (5,5), strides = 3)(X)\n",
    "  X2 = Conv2D(filters = 128, kernel_size = (1,1), padding = 'same', activation = 'relu')(X2)\n",
    "  X2 = Flatten()(X2)\n",
    "  X2 = Dense(1024, activation = 'relu')(X2)\n",
    "  X2 = Dropout(0.7)(X2)\n",
    "  X2 = Dense(1000, activation = 'softmax')(X2)\n",
    "  \n",
    "  \n",
    "  # 7th Inception block\n",
    "  X = Inception_block(X, f1 = 256, f2_conv1 = 160, f2_conv3 = 320, f3_conv1 = 32, \n",
    "                      f3_conv5 = 128, f4 = 128)\n",
    "\n",
    "  # max-pooling layer: pool_size = (3,3), strides = 2\n",
    "  X = MaxPooling2D(pool_size = (3,3), strides = 2)(X)\n",
    "\n",
    "  # 8th Inception block\n",
    "  X = Inception_block(X, f1 = 256, f2_conv1 = 160, f2_conv3 = 320, f3_conv1 = 32, f3_conv5 = 128, f4 = 128)\n",
    "\n",
    "  # 9th Inception block\n",
    "  X = Inception_block(X, f1 = 384, f2_conv1 = 192, f2_conv3 = 384, f3_conv1 = 48, f3_conv5 = 128, f4 = 128)\n",
    "\n",
    "  # Global Average pooling layer \n",
    "  X = GlobalAveragePooling2D(name = 'GAPL')(X)\n",
    "\n",
    "  # Dropoutlayer \n",
    "  X = Dropout(0.4)(X)\n",
    "\n",
    "  # output layer \n",
    "  #X = Dense(1000, activation = 'softmax')(X)\n",
    "  \n",
    "  # model\n",
    "  model = Model(input_layer, X, name = 'GoogLeNet')\n",
    "\n",
    "  return model"
   ]
  },
  {
   "cell_type": "code",
   "execution_count": null,
   "id": "8532952d",
   "metadata": {},
   "outputs": [],
   "source": [
    "def build_inception():\n",
    "    \n",
    "    base = GoogLeNet()\n",
    "    \n",
    "    A0 = base.output\n",
    "    \n",
    "    N1 = layer.BatchNormalization()(A0)\n",
    "    \n",
    "    A2 = layer.Dense(kernel_regularizer=tf.keras.regularizers.L2(0.0002),\n",
    "                     units=3072, activation='relu')(N1)\n",
    "    N2 = layer.BatchNormalization()(A2)\n",
    "    N2 = layer.Dropout(0.2)(N2)\n",
    "    \n",
    "    A3 = layer.Dense(kernel_regularizer=tf.keras.regularizers.L2(0.0002),\n",
    "                     units=512, activation='relu')(N2)\n",
    "    N3 = layer.BatchNormalization()(A3)\n",
    "    N3 = layer.Dropout(0.4)(N3)\n",
    "    \n",
    "    outputs = layer.Dense(units = 2, activation = \"softmax\")(N3)\n",
    "    \n",
    "    model = tf.keras.Model(inputs = base.input, outputs = outputs)\n",
    "    \n",
    "    return model    "
   ]
  },
  {
   "cell_type": "code",
   "execution_count": null,
   "id": "805621b1",
   "metadata": {},
   "outputs": [],
   "source": [
    "Inc_model = build_inception()\n",
    "Inc_model.compile(optimizer=tf.keras.optimizers.Adam(learning_rate=lr),\n",
    "                  loss='binary_crossentropy',\n",
    "                  metrics=['accuracy', tfa.metrics.F1Score(num_classes=2, threshold=0.5), tf.keras.metrics.Precision(), tf.keras.metrics.Recall()])\n",
    "Inc_model.summary()"
   ]
  },
  {
   "cell_type": "code",
   "execution_count": null,
   "id": "60f14589",
   "metadata": {},
   "outputs": [],
   "source": [
    "checkpoint_path = 'training/conv/InceptionNet.ckpt'\n",
    "checkpoint_dir = os.path.dirname(checkpoint_path)\n",
    "\n",
    "cp_callback = tf.keras.callbacks.ModelCheckpoint(checkpoint_path,\n",
    "                                                save_weights_only=False,\n",
    "                                                save_freq ='epoch',\n",
    "                                                verbose=1)\n",
    "\n",
    "estop = tf.keras.callbacks.EarlyStopping(monitor=\"val_loss\",\n",
    "                                         min_delta=0.0001,\n",
    "                                         patience=5,\n",
    "                                         mode=\"min\",\n",
    "                                         restore_best_weights=True)"
   ]
  },
  {
   "cell_type": "code",
   "execution_count": null,
   "id": "fbe796b7",
   "metadata": {},
   "outputs": [],
   "source": [
    "historyInc = Inc_model.fit(train_ds, \n",
    "                           epochs=10, \n",
    "                           validation_data=val_ds, \n",
    "                           callbacks = [cp_callback, estop])\n",
    "Inc_model.save('InceptionNet_model.h5')"
   ]
  },
  {
   "cell_type": "code",
   "execution_count": null,
   "id": "a38289ac",
   "metadata": {},
   "outputs": [],
   "source": [
    "l = historyInc.history.keys()\n",
    "print(l, len(l), type(l))\n",
    "metrics = list(historyInc.history.keys())\n",
    "\n",
    "df = pd.DataFrame(historyInc.history)"
   ]
  },
  {
   "cell_type": "code",
   "execution_count": null,
   "id": "d1392c74",
   "metadata": {},
   "outputs": [],
   "source": [
    "def f1_mod(x):\n",
    "    return x[0]\n",
    "\n",
    "def per_cent(x):\n",
    "    return x*100\n",
    "    \n",
    "df['f1_score'] = df['f1_score'].apply(f1_mod)\n",
    "df['val_f1_score'] = df['val_f1_score'].apply(f1_mod)\n",
    "\n",
    "for i in df.columns:\n",
    "    df[i] = df[i].apply(per_cent)\n",
    "\n",
    "\n",
    "df.head()"
   ]
  },
  {
   "cell_type": "code",
   "execution_count": null,
   "id": "2a7f0c6a",
   "metadata": {},
   "outputs": [],
   "source": [
    "for i in range(len(l)//2):\n",
    "    tr = metrics[i]\n",
    "    val = \"val_\" + tr\n",
    "    df_pl= df[[tr,val]]\n",
    "    df_pl.rename(columns={tr:'train',val:'validation'},inplace=True)\n",
    "    df_pl.plot(title='Model '+tr,figsize=(12,8)).set(xlabel='Epoch',ylabel=tr)"
   ]
  },
  {
   "cell_type": "code",
   "execution_count": null,
   "id": "c1a71e08",
   "metadata": {},
   "outputs": [],
   "source": [
    "def Mobilenet_model(input_shape, weights=None, transfer=False):\n",
    "    \n",
    "    input_img = tf.keras.Input(shape=input_shape)\n",
    "    \n",
    "    base = tf.keras.applications.MobileNetV2(input_shape = input_shape, weights = weights, \n",
    "                                             include_top = False, input_tensor = input_img)\n",
    "    base.trainable = not(transfer)\n",
    "    \n",
    "    A0 = base.output\n",
    "    \n",
    "    A1 = layer.GlobalAveragePooling2D( )(A0)\n",
    "    N1 = layer.BatchNormalization()(A1)\n",
    "    N1 = layer.Dropout(0.1)(N1)\n",
    "    \n",
    "    A2 = layer.Dense(kernel_regularizer=tf.keras.regularizers.L2(0.0002),\n",
    "                     units = 256, activation = 'ReLU')(N1)\n",
    "    N2 = layer.BatchNormalization()(A2)\n",
    "    N2 = layer.Dropout(0.2)(N2)\n",
    "    \n",
    "    A3 = layer.Dense(kernel_regularizer=tf.keras.regularizers.L2(0.0002),\n",
    "                     units = 128, activation = 'ReLU')(A2)\n",
    "    N3 = layer.BatchNormalization()(A3)\n",
    "    N3 = layer.Dropout(0.4)(N3)\n",
    "    \n",
    "    outputs = layer.Dense(units = 2, activation = \"softmax\")(N3)\n",
    "    \n",
    "    model = tf.keras.Model(inputs = input_img, outputs = outputs)\n",
    "    \n",
    "    return model"
   ]
  },
  {
   "cell_type": "code",
   "execution_count": null,
   "id": "c7754385",
   "metadata": {},
   "outputs": [],
   "source": [
    "mobile_I = Mobilenet_model(input_shape=(224,224,3), weights='imagenet',transfer=True)\n",
    "\n",
    "mobile_I.compile(optimizer=tf.keras.optimizers.Adam(learning_rate=lr),\n",
    "                 loss='binary_crossentropy',\n",
    "                 metrics=['accuracy', tfa.metrics.F1Score(num_classes=2, threshold=0.5), tf.keras.metrics.Precision(), tf.keras.metrics.Recall()])\n",
    "                 \n",
    "mobile_I.summary()"
   ]
  },
  {
   "cell_type": "code",
   "execution_count": null,
   "id": "80a52604",
   "metadata": {},
   "outputs": [],
   "source": [
    "checkpoint_path = 'training/conv/Mobile_image_cp.ckpt'\n",
    "checkpoint_dir = os.path.dirname(checkpoint_path)\n",
    "\n",
    "cp_callback = tf.keras.callbacks.ModelCheckpoint(checkpoint_path,\n",
    "                                                save_weights_only=False,\n",
    "                                                save_freq ='epoch',\n",
    "                                                verbose=1)\n",
    "\n",
    "estop = tf.keras.callbacks.EarlyStopping(monitor=\"val_loss\",\n",
    "                                         min_delta=0.0001,\n",
    "                                         patience=5,\n",
    "                                         mode=\"min\",\n",
    "                                         restore_best_weights=True)"
   ]
  },
  {
   "cell_type": "code",
   "execution_count": null,
   "id": "ed163c0a",
   "metadata": {},
   "outputs": [],
   "source": [
    "historyMi = mobile_I.fit(train_ds, \n",
    "                          epochs=10, \n",
    "                          validation_data=val_ds, \n",
    "                          callbacks = [cp_callback, estop])\n",
    "mobile_I.save('MobileNet_model.h5')"
   ]
  },
  {
   "cell_type": "code",
   "execution_count": null,
   "id": "a31ada44",
   "metadata": {},
   "outputs": [],
   "source": [
    "l = historyMi.history.keys()\n",
    "print(l, len(l), type(l))\n",
    "metrics = list(historyMi.history.keys())\n",
    "\n",
    "df = pd.DataFrame(historyMi.history)"
   ]
  },
  {
   "cell_type": "code",
   "execution_count": null,
   "id": "360b190c",
   "metadata": {},
   "outputs": [],
   "source": [
    "def f1_mod(x):\n",
    "    return x[0]\n",
    "\n",
    "def per_cent(x):\n",
    "    return x*100\n",
    "    \n",
    "df['f1_score'] = df['f1_score'].apply(f1_mod)\n",
    "df['val_f1_score'] = df['val_f1_score'].apply(f1_mod)\n",
    "\n",
    "for i in df.columns:\n",
    "    df[i] = df[i].apply(per_cent)\n",
    "\n",
    "\n",
    "df.head()"
   ]
  },
  {
   "cell_type": "code",
   "execution_count": null,
   "id": "a9f015cd",
   "metadata": {},
   "outputs": [],
   "source": [
    "for i in range(len(l)//2):\n",
    "    tr = metrics[i]\n",
    "    val = \"val_\" + tr\n",
    "    df_pl= df[[tr,val]]\n",
    "    df_pl.rename(columns={tr:'train',val:'validation'},inplace=True)\n",
    "    df_pl.plot(title='Model '+tr,figsize=(12,8)).set(xlabel='Epoch',ylabel=tr)"
   ]
  },
  {
   "cell_type": "code",
   "execution_count": null,
   "id": "46861eae",
   "metadata": {},
   "outputs": [],
   "source": [
    "from tensorflow.keras import layers\n",
    "from tensorflow import keras\n",
    "\n",
    "\n",
    "def get_model(img_size, num_classes):\n",
    "    inputs = keras.Input(shape=img_size + (3,))\n",
    "\n",
    "    ### [First half of the network: downsampling inputs] ###\n",
    "\n",
    "    # Entry block\n",
    "    x = layers.Conv2D(32, 3, strides=2, padding=\"same\")(inputs)\n",
    "    x = layers.BatchNormalization()(x)\n",
    "    x = layers.Activation(\"relu\")(x)\n",
    "\n",
    "    previous_block_activation = x  # Set aside residual\n",
    "\n",
    "    # Blocks 1, 2, 3 are identical apart from the feature depth.\n",
    "    for filters in [64, 128, 256]:\n",
    "        x = layers.Activation(\"relu\")(x)\n",
    "        x = layers.SeparableConv2D(filters, 3, padding=\"same\")(x)\n",
    "        x = layers.BatchNormalization()(x)\n",
    "\n",
    "        x = layers.Activation(\"relu\")(x)\n",
    "        x = layers.SeparableConv2D(filters, 3, padding=\"same\")(x)\n",
    "        x = layers.BatchNormalization()(x)\n",
    "\n",
    "        x = layers.MaxPooling2D(3, strides=2, padding=\"same\")(x)\n",
    "\n",
    "        # Project residual\n",
    "        residual = layers.Conv2D(filters, 1, strides=2, padding=\"same\")(\n",
    "            previous_block_activation\n",
    "        )\n",
    "        x = layers.add([x, residual])  # Add back residual\n",
    "        previous_block_activation = x  # Set aside next residual\n",
    "\n",
    "    ### [Second half of the network: upsampling inputs] ###\n",
    "\n",
    "    for filters in [256, 128, 64, 32]:\n",
    "        x = layers.Activation(\"relu\")(x)\n",
    "        x = layers.Conv2DTranspose(filters, 3, padding=\"same\")(x)\n",
    "        x = layers.BatchNormalization()(x)\n",
    "\n",
    "        x = layers.Activation(\"relu\")(x)\n",
    "        x = layers.Conv2DTranspose(filters, 3, padding=\"same\")(x)\n",
    "        x = layers.BatchNormalization()(x)\n",
    "\n",
    "        x = layers.UpSampling2D(2)(x)\n",
    "\n",
    "        # Project residual\n",
    "        residual = layers.UpSampling2D(2)(previous_block_activation)\n",
    "        residual = layers.Conv2D(filters, 1, padding=\"same\")(residual)\n",
    "        x = layers.add([x, residual])  # Add back residual\n",
    "        previous_block_activation = x  # Set aside next residual\n",
    "\n",
    "    # Add a per-pixel classification layer\n",
    "    outputs = layers.Conv2D(num_classes, 3, activation=\"softmax\", padding=\"same\")(x)\n",
    "\n",
    "    # Define the model\n",
    "    model = keras.Model(inputs, outputs)\n",
    "    return model\n",
    "\n",
    "\n",
    "# Free up RAM in case the model definition cells were run multiple times\n",
    "keras.backend.clear_session()\n",
    "\n",
    "# Build model\n",
    "img_size = (224, 224)\n",
    "UNet_model = get_model(img_size, 2)\n",
    "UNet_model.summary()"
   ]
  },
  {
   "cell_type": "code",
   "execution_count": null,
   "id": "8371d455",
   "metadata": {},
   "outputs": [],
   "source": [
    "def Unet_classifier(base):\n",
    "    \n",
    "    A0 = base.output\n",
    "    \n",
    "    A1 = layer.GlobalAveragePooling2D( )(A0)\n",
    "    N1 = layer.BatchNormalization()(A1)\n",
    "    N1 = layer.Dropout(0.1)(N1)\n",
    "    \n",
    "    A2 = layer.Dense(kernel_regularizer=tf.keras.regularizers.L2(0.0002),\n",
    "                     units=3072, activation='relu')(N1)\n",
    "    N2 = layer.BatchNormalization()(A2)\n",
    "    N2 = layer.Dropout(0.2)(N2)\n",
    "    \n",
    "    A3 = layer.Dense(kernel_regularizer=tf.keras.regularizers.L2(0.0002),\n",
    "                     units=512, activation='relu')(N2)\n",
    "    N3 = layer.BatchNormalization()(A3)\n",
    "    N3 = layer.Dropout(0.4)(N3)\n",
    "    \n",
    "    outputs = layer.Dense(units = 2, activation = \"softmax\")(N3)\n",
    "    \n",
    "    model = tf.keras.Model(inputs = base.input, outputs = outputs)\n",
    "    \n",
    "    return model"
   ]
  },
  {
   "cell_type": "code",
   "execution_count": null,
   "id": "fbabf542",
   "metadata": {},
   "outputs": [],
   "source": [
    "Unet = Unet_classifier(UNet_model)\n",
    "Unet.summary()"
   ]
  },
  {
   "cell_type": "code",
   "execution_count": null,
   "id": "83dd62be",
   "metadata": {},
   "outputs": [],
   "source": [
    "Unet.compile(optimizer=tf.keras.optimizers.Adam(learning_rate=lr),\n",
    "                 loss='binary_crossentropy',\n",
    "                 metrics=['accuracy', tfa.metrics.F1Score(num_classes=2, threshold=0.5), tf.keras.metrics.Precision(), tf.keras.metrics.Recall()])"
   ]
  },
  {
   "cell_type": "code",
   "execution_count": null,
   "id": "6e09d239",
   "metadata": {},
   "outputs": [],
   "source": [
    "checkpoint_path = 'training/conv/UNet1.ckpt'\n",
    "checkpoint_dir = os.path.dirname(checkpoint_path)\n",
    "\n",
    "cp_callback = tf.keras.callbacks.ModelCheckpoint(checkpoint_path,\n",
    "                                                save_weights_only=False,\n",
    "                                                save_freq ='epoch',\n",
    "                                                verbose=1)\n",
    "\n",
    "estop = tf.keras.callbacks.EarlyStopping(monitor=\"val_loss\",\n",
    "                                         min_delta=0.0001,\n",
    "                                         patience=5,\n",
    "                                         mode=\"min\",\n",
    "                                         restore_best_weights=True)"
   ]
  },
  {
   "cell_type": "code",
   "execution_count": null,
   "id": "73e2b312",
   "metadata": {},
   "outputs": [],
   "source": [
    "historyU = Unet.fit(train_ds, epochs=10, validation_data=val_ds, callbacks = [cp_callback, estop])\n",
    "Unet.save('UNet.h5')"
   ]
  },
  {
   "cell_type": "code",
   "execution_count": null,
   "id": "9c66f15e",
   "metadata": {},
   "outputs": [],
   "source": [
    "l = historyU.history.keys()\n",
    "print(l, len(l), type(l))\n",
    "metrics = list(historyU.history.keys())\n",
    "\n",
    "df = pd.DataFrame(historyU.history)"
   ]
  },
  {
   "cell_type": "code",
   "execution_count": null,
   "id": "2e792c5a",
   "metadata": {},
   "outputs": [],
   "source": [
    "def f1_mod(x):\n",
    "    return x[0]\n",
    "\n",
    "def per_cent(x):\n",
    "    return x*100\n",
    "    \n",
    "df['f1_score'] = df['f1_score'].apply(f1_mod)\n",
    "df['val_f1_score'] = df['val_f1_score'].apply(f1_mod)\n",
    "\n",
    "for i in df.columns:\n",
    "    df[i] = df[i].apply(per_cent)\n",
    "\n",
    "\n",
    "df.head()"
   ]
  },
  {
   "cell_type": "code",
   "execution_count": null,
   "id": "4e150d36",
   "metadata": {},
   "outputs": [],
   "source": [
    "for i in range(len(l)//2):\n",
    "    tr = metrics[i]\n",
    "    val = \"val_\" + tr\n",
    "    df_pl= df[[tr,val]]\n",
    "    df_pl.rename(columns={tr:'train',val:'validation'},inplace=True)\n",
    "    df_pl.plot(title='Model '+tr,figsize=(12,8)).set(xlabel='Epoch',ylabel=tr)"
   ]
  },
  {
   "cell_type": "code",
   "execution_count": null,
   "id": "7bafaa2e",
   "metadata": {},
   "outputs": [],
   "source": []
  },
  {
   "cell_type": "code",
   "execution_count": null,
   "id": "16386a6e",
   "metadata": {},
   "outputs": [],
   "source": []
  },
  {
   "cell_type": "code",
   "execution_count": null,
   "id": "b0c2ffaa",
   "metadata": {},
   "outputs": [],
   "source": []
  }
 ],
 "metadata": {
  "kernelspec": {
   "display_name": "Python 3",
   "language": "python",
   "name": "python3"
  },
  "language_info": {
   "codemirror_mode": {
    "name": "ipython",
    "version": 3
   },
   "file_extension": ".py",
   "mimetype": "text/x-python",
   "name": "python",
   "nbconvert_exporter": "python",
   "pygments_lexer": "ipython3",
   "version": "3.8.8"
  }
 },
 "nbformat": 4,
 "nbformat_minor": 5
}
